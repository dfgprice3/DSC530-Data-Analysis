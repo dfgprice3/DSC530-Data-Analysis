{
 "cells": [
  {
   "cell_type": "markdown",
   "id": "160c2512",
   "metadata": {},
   "source": [
    "### Impact of Weather in Des Plains, IL on Ability to Fly Smaller Aircraft Locally\n",
    "The data combines 10 years of hourly weather data and local flight counts at our local airport. This data will be used to determine if whether affects people's ability or desire to fly their plane. Consideration will be given to air pressure, temperature, wind speeds, and other weather attributes. Data will be consolidated to monthly, because the local airport does not provide daily flight counts.\n",
    "\n",
    "**Author:** Don Price<br>\n",
    "**Assignment:** Final Project<br>\n",
    "**Class:** DSC 530<br>\n",
    "**Last Updated:** 3/4/2022"
   ]
  },
  {
   "cell_type": "code",
   "execution_count": 72,
   "id": "486516d3",
   "metadata": {},
   "outputs": [],
   "source": [
    "from __future__ import print_function, division\n",
    "\n",
    "import random\n",
    "\n",
    "import thinkstats2\n",
    "import thinkplot\n",
    "\n",
    "import pandas as pd\n",
    "import numpy as np\n",
    "\n",
    "from scipy.stats import expon, pearsonr, spearmanr\n",
    "from sklearn import linear_model\n",
    "from sklearn.metrics import mean_squared_error, r2_score\n",
    "\n",
    "import matplotlib\n",
    "import matplotlib.pyplot as plt\n",
    "import seaborn as sns\n",
    "\n",
    "import os"
   ]
  },
  {
   "cell_type": "code",
   "execution_count": 73,
   "id": "36c97ae3",
   "metadata": {},
   "outputs": [
    {
     "data": {
      "text/plain": [
       "'C:\\\\Users\\\\dfgpr\\\\OneDrive\\\\Don Masters Program\\\\Price_dsc530\\\\DSC530_Final_Project\\\\Data_Processing'"
      ]
     },
     "execution_count": 73,
     "metadata": {},
     "output_type": "execute_result"
    }
   ],
   "source": [
    "os.getcwd()"
   ]
  },
  {
   "cell_type": "code",
   "execution_count": 74,
   "id": "e8f0837b",
   "metadata": {},
   "outputs": [
    {
     "name": "stderr",
     "output_type": "stream",
     "text": [
      "C:\\ProgramData\\Anaconda3\\lib\\site-packages\\IPython\\core\\interactiveshell.py:3444: DtypeWarning: Columns (3,21,27,28,29,30,31,32,33,37,38,42,43,44,49,50,52,54,56,57,59,60,61,62,63,64,96,114,115,118,120) have mixed types.Specify dtype option on import or set low_memory=False.\n",
      "  exec(code_obj, self.user_global_ns, self.user_ns)\n"
     ]
    }
   ],
   "source": [
    "WEATHER_FILE = 'NOAA_localstation_download12.9.21_2815503.csv'\n",
    "\n",
    "airport_df = pd.read_csv(WEATHER_FILE)"
   ]
  },
  {
   "cell_type": "code",
   "execution_count": 75,
   "id": "80732c09",
   "metadata": {},
   "outputs": [
    {
     "data": {
      "text/html": [
       "<div>\n",
       "<style scoped>\n",
       "    .dataframe tbody tr th:only-of-type {\n",
       "        vertical-align: middle;\n",
       "    }\n",
       "\n",
       "    .dataframe tbody tr th {\n",
       "        vertical-align: top;\n",
       "    }\n",
       "\n",
       "    .dataframe thead th {\n",
       "        text-align: right;\n",
       "    }\n",
       "</style>\n",
       "<table border=\"1\" class=\"dataframe\">\n",
       "  <thead>\n",
       "    <tr style=\"text-align: right;\">\n",
       "      <th></th>\n",
       "      <th>STATION</th>\n",
       "      <th>DATE</th>\n",
       "      <th>REPORT_TYPE</th>\n",
       "      <th>SOURCE</th>\n",
       "      <th>AWND</th>\n",
       "      <th>BackupDirection</th>\n",
       "      <th>BackupDistance</th>\n",
       "      <th>BackupDistanceUnit</th>\n",
       "      <th>BackupElements</th>\n",
       "      <th>BackupElevation</th>\n",
       "      <th>BackupElevationUnit</th>\n",
       "      <th>BackupEquipment</th>\n",
       "      <th>BackupLatitude</th>\n",
       "      <th>BackupLongitude</th>\n",
       "      <th>BackupName</th>\n",
       "      <th>CDSD</th>\n",
       "      <th>CLDD</th>\n",
       "      <th>DSNW</th>\n",
       "      <th>DYHF</th>\n",
       "      <th>DYTS</th>\n",
       "      <th>DailyAverageDewPointTemperature</th>\n",
       "      <th>DailyAverageDryBulbTemperature</th>\n",
       "      <th>DailyAverageRelativeHumidity</th>\n",
       "      <th>DailyAverageSeaLevelPressure</th>\n",
       "      <th>DailyAverageStationPressure</th>\n",
       "      <th>DailyAverageWetBulbTemperature</th>\n",
       "      <th>DailyAverageWindSpeed</th>\n",
       "      <th>DailyCoolingDegreeDays</th>\n",
       "      <th>DailyDepartureFromNormalAverageTemperature</th>\n",
       "      <th>DailyHeatingDegreeDays</th>\n",
       "      <th>DailyMaximumDryBulbTemperature</th>\n",
       "      <th>DailyMinimumDryBulbTemperature</th>\n",
       "      <th>DailyPeakWindDirection</th>\n",
       "      <th>DailyPeakWindSpeed</th>\n",
       "      <th>DailyPrecipitation</th>\n",
       "      <th>DailySnowDepth</th>\n",
       "      <th>DailySnowfall</th>\n",
       "      <th>DailySustainedWindDirection</th>\n",
       "      <th>DailySustainedWindSpeed</th>\n",
       "      <th>DailyWeather</th>\n",
       "      <th>HDSD</th>\n",
       "      <th>HTDD</th>\n",
       "      <th>HourlyAltimeterSetting</th>\n",
       "      <th>HourlyDewPointTemperature</th>\n",
       "      <th>HourlyDryBulbTemperature</th>\n",
       "      <th>HourlyPrecipitation</th>\n",
       "      <th>HourlyPresentWeatherType</th>\n",
       "      <th>HourlyPressureChange</th>\n",
       "      <th>HourlyPressureTendency</th>\n",
       "      <th>HourlyRelativeHumidity</th>\n",
       "      <th>HourlySeaLevelPressure</th>\n",
       "      <th>HourlySkyConditions</th>\n",
       "      <th>HourlyStationPressure</th>\n",
       "      <th>HourlyVisibility</th>\n",
       "      <th>HourlyWetBulbTemperature</th>\n",
       "      <th>HourlyWindDirection</th>\n",
       "      <th>HourlyWindGustSpeed</th>\n",
       "      <th>HourlyWindSpeed</th>\n",
       "      <th>MonthlyAverageRH</th>\n",
       "      <th>MonthlyDaysWithGT001Precip</th>\n",
       "      <th>MonthlyDaysWithGT010Precip</th>\n",
       "      <th>MonthlyDaysWithGT32Temp</th>\n",
       "      <th>MonthlyDaysWithGT90Temp</th>\n",
       "      <th>MonthlyDaysWithLT0Temp</th>\n",
       "      <th>MonthlyDaysWithLT32Temp</th>\n",
       "      <th>MonthlyDepartureFromNormalAverageTemperature</th>\n",
       "      <th>MonthlyDepartureFromNormalCoolingDegreeDays</th>\n",
       "      <th>MonthlyDepartureFromNormalHeatingDegreeDays</th>\n",
       "      <th>MonthlyDepartureFromNormalMaximumTemperature</th>\n",
       "      <th>MonthlyDepartureFromNormalMinimumTemperature</th>\n",
       "      <th>MonthlyDepartureFromNormalPrecipitation</th>\n",
       "      <th>MonthlyDewpointTemperature</th>\n",
       "      <th>MonthlyGreatestPrecip</th>\n",
       "      <th>MonthlyGreatestPrecipDate</th>\n",
       "      <th>MonthlyGreatestSnowDepth</th>\n",
       "      <th>MonthlyGreatestSnowDepthDate</th>\n",
       "      <th>MonthlyGreatestSnowfall</th>\n",
       "      <th>MonthlyGreatestSnowfallDate</th>\n",
       "      <th>MonthlyMaxSeaLevelPressureValue</th>\n",
       "      <th>MonthlyMaxSeaLevelPressureValueDate</th>\n",
       "      <th>MonthlyMaxSeaLevelPressureValueTime</th>\n",
       "      <th>MonthlyMaximumTemperature</th>\n",
       "      <th>MonthlyMeanTemperature</th>\n",
       "      <th>MonthlyMinSeaLevelPressureValue</th>\n",
       "      <th>MonthlyMinSeaLevelPressureValueDate</th>\n",
       "      <th>MonthlyMinSeaLevelPressureValueTime</th>\n",
       "      <th>MonthlyMinimumTemperature</th>\n",
       "      <th>MonthlySeaLevelPressure</th>\n",
       "      <th>MonthlyStationPressure</th>\n",
       "      <th>MonthlyTotalLiquidPrecipitation</th>\n",
       "      <th>MonthlyTotalSnowfall</th>\n",
       "      <th>MonthlyWetBulb</th>\n",
       "      <th>NormalsCoolingDegreeDay</th>\n",
       "      <th>NormalsHeatingDegreeDay</th>\n",
       "      <th>REM</th>\n",
       "      <th>REPORT_TYPE.1</th>\n",
       "      <th>SOURCE.1</th>\n",
       "      <th>ShortDurationEndDate005</th>\n",
       "      <th>ShortDurationEndDate010</th>\n",
       "      <th>ShortDurationEndDate015</th>\n",
       "      <th>ShortDurationEndDate020</th>\n",
       "      <th>ShortDurationEndDate030</th>\n",
       "      <th>ShortDurationEndDate045</th>\n",
       "      <th>ShortDurationEndDate060</th>\n",
       "      <th>ShortDurationEndDate080</th>\n",
       "      <th>ShortDurationEndDate100</th>\n",
       "      <th>ShortDurationEndDate120</th>\n",
       "      <th>ShortDurationEndDate150</th>\n",
       "      <th>ShortDurationEndDate180</th>\n",
       "      <th>ShortDurationPrecipitationValue005</th>\n",
       "      <th>ShortDurationPrecipitationValue010</th>\n",
       "      <th>ShortDurationPrecipitationValue015</th>\n",
       "      <th>ShortDurationPrecipitationValue020</th>\n",
       "      <th>ShortDurationPrecipitationValue030</th>\n",
       "      <th>ShortDurationPrecipitationValue045</th>\n",
       "      <th>ShortDurationPrecipitationValue060</th>\n",
       "      <th>ShortDurationPrecipitationValue080</th>\n",
       "      <th>ShortDurationPrecipitationValue100</th>\n",
       "      <th>ShortDurationPrecipitationValue120</th>\n",
       "      <th>ShortDurationPrecipitationValue150</th>\n",
       "      <th>ShortDurationPrecipitationValue180</th>\n",
       "      <th>Sunrise</th>\n",
       "      <th>Sunset</th>\n",
       "      <th>WindEquipmentChangeDate</th>\n",
       "    </tr>\n",
       "  </thead>\n",
       "  <tbody>\n",
       "    <tr>\n",
       "      <th>0</th>\n",
       "      <td>74466504838</td>\n",
       "      <td>2012-01-01T00:52:00</td>\n",
       "      <td>FM-15</td>\n",
       "      <td>7</td>\n",
       "      <td>NaN</td>\n",
       "      <td>NaN</td>\n",
       "      <td>NaN</td>\n",
       "      <td>NaN</td>\n",
       "      <td>NaN</td>\n",
       "      <td>NaN</td>\n",
       "      <td>NaN</td>\n",
       "      <td>NaN</td>\n",
       "      <td>NaN</td>\n",
       "      <td>NaN</td>\n",
       "      <td>NaN</td>\n",
       "      <td>NaN</td>\n",
       "      <td>NaN</td>\n",
       "      <td>NaN</td>\n",
       "      <td>NaN</td>\n",
       "      <td>NaN</td>\n",
       "      <td>NaN</td>\n",
       "      <td>NaN</td>\n",
       "      <td>NaN</td>\n",
       "      <td>NaN</td>\n",
       "      <td>NaN</td>\n",
       "      <td>NaN</td>\n",
       "      <td>NaN</td>\n",
       "      <td>NaN</td>\n",
       "      <td>NaN</td>\n",
       "      <td>NaN</td>\n",
       "      <td>NaN</td>\n",
       "      <td>NaN</td>\n",
       "      <td>NaN</td>\n",
       "      <td>NaN</td>\n",
       "      <td>NaN</td>\n",
       "      <td>NaN</td>\n",
       "      <td>NaN</td>\n",
       "      <td>NaN</td>\n",
       "      <td>NaN</td>\n",
       "      <td>NaN</td>\n",
       "      <td>NaN</td>\n",
       "      <td>NaN</td>\n",
       "      <td>29.61</td>\n",
       "      <td>35.0</td>\n",
       "      <td>40</td>\n",
       "      <td>0</td>\n",
       "      <td>NaN</td>\n",
       "      <td>NaN</td>\n",
       "      <td>NaN</td>\n",
       "      <td>83.0</td>\n",
       "      <td>29.62</td>\n",
       "      <td>NaN</td>\n",
       "      <td>28.92</td>\n",
       "      <td>10</td>\n",
       "      <td>38.0</td>\n",
       "      <td>170</td>\n",
       "      <td>NaN</td>\n",
       "      <td>10.0</td>\n",
       "      <td>NaN</td>\n",
       "      <td>NaN</td>\n",
       "      <td>NaN</td>\n",
       "      <td>NaN</td>\n",
       "      <td>NaN</td>\n",
       "      <td>NaN</td>\n",
       "      <td>NaN</td>\n",
       "      <td>NaN</td>\n",
       "      <td>NaN</td>\n",
       "      <td>NaN</td>\n",
       "      <td>NaN</td>\n",
       "      <td>NaN</td>\n",
       "      <td>NaN</td>\n",
       "      <td>NaN</td>\n",
       "      <td>NaN</td>\n",
       "      <td>NaN</td>\n",
       "      <td>NaN</td>\n",
       "      <td>NaN</td>\n",
       "      <td>NaN</td>\n",
       "      <td>NaN</td>\n",
       "      <td>NaN</td>\n",
       "      <td>NaN</td>\n",
       "      <td>NaN</td>\n",
       "      <td>NaN</td>\n",
       "      <td>NaN</td>\n",
       "      <td>NaN</td>\n",
       "      <td>NaN</td>\n",
       "      <td>NaN</td>\n",
       "      <td>NaN</td>\n",
       "      <td>NaN</td>\n",
       "      <td>NaN</td>\n",
       "      <td>NaN</td>\n",
       "      <td>NaN</td>\n",
       "      <td>NaN</td>\n",
       "      <td>NaN</td>\n",
       "      <td>NaN</td>\n",
       "      <td>MET09701/01/12 00:52:02 METAR KPWK 010652Z 170...</td>\n",
       "      <td>FM-15</td>\n",
       "      <td>7</td>\n",
       "      <td>NaN</td>\n",
       "      <td>NaN</td>\n",
       "      <td>NaN</td>\n",
       "      <td>NaN</td>\n",
       "      <td>NaN</td>\n",
       "      <td>NaN</td>\n",
       "      <td>NaN</td>\n",
       "      <td>NaN</td>\n",
       "      <td>NaN</td>\n",
       "      <td>NaN</td>\n",
       "      <td>NaN</td>\n",
       "      <td>NaN</td>\n",
       "      <td>NaN</td>\n",
       "      <td>NaN</td>\n",
       "      <td>NaN</td>\n",
       "      <td>NaN</td>\n",
       "      <td>NaN</td>\n",
       "      <td>NaN</td>\n",
       "      <td>NaN</td>\n",
       "      <td>NaN</td>\n",
       "      <td>NaN</td>\n",
       "      <td>NaN</td>\n",
       "      <td>NaN</td>\n",
       "      <td>NaN</td>\n",
       "      <td>NaN</td>\n",
       "      <td>NaN</td>\n",
       "      <td>6/26/2007</td>\n",
       "    </tr>\n",
       "    <tr>\n",
       "      <th>1</th>\n",
       "      <td>74466504838</td>\n",
       "      <td>2012-01-01T01:52:00</td>\n",
       "      <td>FM-15</td>\n",
       "      <td>7</td>\n",
       "      <td>NaN</td>\n",
       "      <td>NaN</td>\n",
       "      <td>NaN</td>\n",
       "      <td>NaN</td>\n",
       "      <td>NaN</td>\n",
       "      <td>NaN</td>\n",
       "      <td>NaN</td>\n",
       "      <td>NaN</td>\n",
       "      <td>NaN</td>\n",
       "      <td>NaN</td>\n",
       "      <td>NaN</td>\n",
       "      <td>NaN</td>\n",
       "      <td>NaN</td>\n",
       "      <td>NaN</td>\n",
       "      <td>NaN</td>\n",
       "      <td>NaN</td>\n",
       "      <td>NaN</td>\n",
       "      <td>NaN</td>\n",
       "      <td>NaN</td>\n",
       "      <td>NaN</td>\n",
       "      <td>NaN</td>\n",
       "      <td>NaN</td>\n",
       "      <td>NaN</td>\n",
       "      <td>NaN</td>\n",
       "      <td>NaN</td>\n",
       "      <td>NaN</td>\n",
       "      <td>NaN</td>\n",
       "      <td>NaN</td>\n",
       "      <td>NaN</td>\n",
       "      <td>NaN</td>\n",
       "      <td>NaN</td>\n",
       "      <td>NaN</td>\n",
       "      <td>NaN</td>\n",
       "      <td>NaN</td>\n",
       "      <td>NaN</td>\n",
       "      <td>NaN</td>\n",
       "      <td>NaN</td>\n",
       "      <td>NaN</td>\n",
       "      <td>29.56</td>\n",
       "      <td>35.0</td>\n",
       "      <td>42</td>\n",
       "      <td>0</td>\n",
       "      <td>NaN</td>\n",
       "      <td>NaN</td>\n",
       "      <td>NaN</td>\n",
       "      <td>76.0</td>\n",
       "      <td>29.57</td>\n",
       "      <td>NaN</td>\n",
       "      <td>28.87</td>\n",
       "      <td>10</td>\n",
       "      <td>39.0</td>\n",
       "      <td>170</td>\n",
       "      <td>NaN</td>\n",
       "      <td>11.0</td>\n",
       "      <td>NaN</td>\n",
       "      <td>NaN</td>\n",
       "      <td>NaN</td>\n",
       "      <td>NaN</td>\n",
       "      <td>NaN</td>\n",
       "      <td>NaN</td>\n",
       "      <td>NaN</td>\n",
       "      <td>NaN</td>\n",
       "      <td>NaN</td>\n",
       "      <td>NaN</td>\n",
       "      <td>NaN</td>\n",
       "      <td>NaN</td>\n",
       "      <td>NaN</td>\n",
       "      <td>NaN</td>\n",
       "      <td>NaN</td>\n",
       "      <td>NaN</td>\n",
       "      <td>NaN</td>\n",
       "      <td>NaN</td>\n",
       "      <td>NaN</td>\n",
       "      <td>NaN</td>\n",
       "      <td>NaN</td>\n",
       "      <td>NaN</td>\n",
       "      <td>NaN</td>\n",
       "      <td>NaN</td>\n",
       "      <td>NaN</td>\n",
       "      <td>NaN</td>\n",
       "      <td>NaN</td>\n",
       "      <td>NaN</td>\n",
       "      <td>NaN</td>\n",
       "      <td>NaN</td>\n",
       "      <td>NaN</td>\n",
       "      <td>NaN</td>\n",
       "      <td>NaN</td>\n",
       "      <td>NaN</td>\n",
       "      <td>NaN</td>\n",
       "      <td>NaN</td>\n",
       "      <td>MET09001/01/12 01:52:02 METAR KPWK 010752Z 170...</td>\n",
       "      <td>FM-15</td>\n",
       "      <td>7</td>\n",
       "      <td>NaN</td>\n",
       "      <td>NaN</td>\n",
       "      <td>NaN</td>\n",
       "      <td>NaN</td>\n",
       "      <td>NaN</td>\n",
       "      <td>NaN</td>\n",
       "      <td>NaN</td>\n",
       "      <td>NaN</td>\n",
       "      <td>NaN</td>\n",
       "      <td>NaN</td>\n",
       "      <td>NaN</td>\n",
       "      <td>NaN</td>\n",
       "      <td>NaN</td>\n",
       "      <td>NaN</td>\n",
       "      <td>NaN</td>\n",
       "      <td>NaN</td>\n",
       "      <td>NaN</td>\n",
       "      <td>NaN</td>\n",
       "      <td>NaN</td>\n",
       "      <td>NaN</td>\n",
       "      <td>NaN</td>\n",
       "      <td>NaN</td>\n",
       "      <td>NaN</td>\n",
       "      <td>NaN</td>\n",
       "      <td>NaN</td>\n",
       "      <td>NaN</td>\n",
       "      <td>6/26/2007</td>\n",
       "    </tr>\n",
       "    <tr>\n",
       "      <th>2</th>\n",
       "      <td>74466504838</td>\n",
       "      <td>2012-01-01T02:52:00</td>\n",
       "      <td>FM-15</td>\n",
       "      <td>7</td>\n",
       "      <td>NaN</td>\n",
       "      <td>NaN</td>\n",
       "      <td>NaN</td>\n",
       "      <td>NaN</td>\n",
       "      <td>NaN</td>\n",
       "      <td>NaN</td>\n",
       "      <td>NaN</td>\n",
       "      <td>NaN</td>\n",
       "      <td>NaN</td>\n",
       "      <td>NaN</td>\n",
       "      <td>NaN</td>\n",
       "      <td>NaN</td>\n",
       "      <td>NaN</td>\n",
       "      <td>NaN</td>\n",
       "      <td>NaN</td>\n",
       "      <td>NaN</td>\n",
       "      <td>NaN</td>\n",
       "      <td>NaN</td>\n",
       "      <td>NaN</td>\n",
       "      <td>NaN</td>\n",
       "      <td>NaN</td>\n",
       "      <td>NaN</td>\n",
       "      <td>NaN</td>\n",
       "      <td>NaN</td>\n",
       "      <td>NaN</td>\n",
       "      <td>NaN</td>\n",
       "      <td>NaN</td>\n",
       "      <td>NaN</td>\n",
       "      <td>NaN</td>\n",
       "      <td>NaN</td>\n",
       "      <td>NaN</td>\n",
       "      <td>NaN</td>\n",
       "      <td>NaN</td>\n",
       "      <td>NaN</td>\n",
       "      <td>NaN</td>\n",
       "      <td>NaN</td>\n",
       "      <td>NaN</td>\n",
       "      <td>NaN</td>\n",
       "      <td>29.53</td>\n",
       "      <td>34.0</td>\n",
       "      <td>41</td>\n",
       "      <td>0</td>\n",
       "      <td>NaN</td>\n",
       "      <td>0.14</td>\n",
       "      <td>6.0</td>\n",
       "      <td>76.0</td>\n",
       "      <td>29.54</td>\n",
       "      <td>NaN</td>\n",
       "      <td>28.84</td>\n",
       "      <td>10</td>\n",
       "      <td>38.0</td>\n",
       "      <td>180</td>\n",
       "      <td>NaN</td>\n",
       "      <td>8.0</td>\n",
       "      <td>NaN</td>\n",
       "      <td>NaN</td>\n",
       "      <td>NaN</td>\n",
       "      <td>NaN</td>\n",
       "      <td>NaN</td>\n",
       "      <td>NaN</td>\n",
       "      <td>NaN</td>\n",
       "      <td>NaN</td>\n",
       "      <td>NaN</td>\n",
       "      <td>NaN</td>\n",
       "      <td>NaN</td>\n",
       "      <td>NaN</td>\n",
       "      <td>NaN</td>\n",
       "      <td>NaN</td>\n",
       "      <td>NaN</td>\n",
       "      <td>NaN</td>\n",
       "      <td>NaN</td>\n",
       "      <td>NaN</td>\n",
       "      <td>NaN</td>\n",
       "      <td>NaN</td>\n",
       "      <td>NaN</td>\n",
       "      <td>NaN</td>\n",
       "      <td>NaN</td>\n",
       "      <td>NaN</td>\n",
       "      <td>NaN</td>\n",
       "      <td>NaN</td>\n",
       "      <td>NaN</td>\n",
       "      <td>NaN</td>\n",
       "      <td>NaN</td>\n",
       "      <td>NaN</td>\n",
       "      <td>NaN</td>\n",
       "      <td>NaN</td>\n",
       "      <td>NaN</td>\n",
       "      <td>NaN</td>\n",
       "      <td>NaN</td>\n",
       "      <td>NaN</td>\n",
       "      <td>MET09601/01/12 02:52:02 METAR KPWK 010852Z 180...</td>\n",
       "      <td>FM-15</td>\n",
       "      <td>7</td>\n",
       "      <td>NaN</td>\n",
       "      <td>NaN</td>\n",
       "      <td>NaN</td>\n",
       "      <td>NaN</td>\n",
       "      <td>NaN</td>\n",
       "      <td>NaN</td>\n",
       "      <td>NaN</td>\n",
       "      <td>NaN</td>\n",
       "      <td>NaN</td>\n",
       "      <td>NaN</td>\n",
       "      <td>NaN</td>\n",
       "      <td>NaN</td>\n",
       "      <td>NaN</td>\n",
       "      <td>NaN</td>\n",
       "      <td>NaN</td>\n",
       "      <td>NaN</td>\n",
       "      <td>NaN</td>\n",
       "      <td>NaN</td>\n",
       "      <td>NaN</td>\n",
       "      <td>NaN</td>\n",
       "      <td>NaN</td>\n",
       "      <td>NaN</td>\n",
       "      <td>NaN</td>\n",
       "      <td>NaN</td>\n",
       "      <td>NaN</td>\n",
       "      <td>NaN</td>\n",
       "      <td>6/26/2007</td>\n",
       "    </tr>\n",
       "    <tr>\n",
       "      <th>3</th>\n",
       "      <td>74466504838</td>\n",
       "      <td>2012-01-01T03:52:00</td>\n",
       "      <td>FM-15</td>\n",
       "      <td>7</td>\n",
       "      <td>NaN</td>\n",
       "      <td>NaN</td>\n",
       "      <td>NaN</td>\n",
       "      <td>NaN</td>\n",
       "      <td>NaN</td>\n",
       "      <td>NaN</td>\n",
       "      <td>NaN</td>\n",
       "      <td>NaN</td>\n",
       "      <td>NaN</td>\n",
       "      <td>NaN</td>\n",
       "      <td>NaN</td>\n",
       "      <td>NaN</td>\n",
       "      <td>NaN</td>\n",
       "      <td>NaN</td>\n",
       "      <td>NaN</td>\n",
       "      <td>NaN</td>\n",
       "      <td>NaN</td>\n",
       "      <td>NaN</td>\n",
       "      <td>NaN</td>\n",
       "      <td>NaN</td>\n",
       "      <td>NaN</td>\n",
       "      <td>NaN</td>\n",
       "      <td>NaN</td>\n",
       "      <td>NaN</td>\n",
       "      <td>NaN</td>\n",
       "      <td>NaN</td>\n",
       "      <td>NaN</td>\n",
       "      <td>NaN</td>\n",
       "      <td>NaN</td>\n",
       "      <td>NaN</td>\n",
       "      <td>NaN</td>\n",
       "      <td>NaN</td>\n",
       "      <td>NaN</td>\n",
       "      <td>NaN</td>\n",
       "      <td>NaN</td>\n",
       "      <td>NaN</td>\n",
       "      <td>NaN</td>\n",
       "      <td>NaN</td>\n",
       "      <td>29.52</td>\n",
       "      <td>35.0</td>\n",
       "      <td>42</td>\n",
       "      <td>0</td>\n",
       "      <td>NaN</td>\n",
       "      <td>NaN</td>\n",
       "      <td>NaN</td>\n",
       "      <td>76.0</td>\n",
       "      <td>29.53</td>\n",
       "      <td>NaN</td>\n",
       "      <td>28.84</td>\n",
       "      <td>10</td>\n",
       "      <td>39.0</td>\n",
       "      <td>200</td>\n",
       "      <td>NaN</td>\n",
       "      <td>6.0</td>\n",
       "      <td>NaN</td>\n",
       "      <td>NaN</td>\n",
       "      <td>NaN</td>\n",
       "      <td>NaN</td>\n",
       "      <td>NaN</td>\n",
       "      <td>NaN</td>\n",
       "      <td>NaN</td>\n",
       "      <td>NaN</td>\n",
       "      <td>NaN</td>\n",
       "      <td>NaN</td>\n",
       "      <td>NaN</td>\n",
       "      <td>NaN</td>\n",
       "      <td>NaN</td>\n",
       "      <td>NaN</td>\n",
       "      <td>NaN</td>\n",
       "      <td>NaN</td>\n",
       "      <td>NaN</td>\n",
       "      <td>NaN</td>\n",
       "      <td>NaN</td>\n",
       "      <td>NaN</td>\n",
       "      <td>NaN</td>\n",
       "      <td>NaN</td>\n",
       "      <td>NaN</td>\n",
       "      <td>NaN</td>\n",
       "      <td>NaN</td>\n",
       "      <td>NaN</td>\n",
       "      <td>NaN</td>\n",
       "      <td>NaN</td>\n",
       "      <td>NaN</td>\n",
       "      <td>NaN</td>\n",
       "      <td>NaN</td>\n",
       "      <td>NaN</td>\n",
       "      <td>NaN</td>\n",
       "      <td>NaN</td>\n",
       "      <td>NaN</td>\n",
       "      <td>NaN</td>\n",
       "      <td>MET09001/01/12 03:52:02 METAR KPWK 010952Z 200...</td>\n",
       "      <td>FM-15</td>\n",
       "      <td>7</td>\n",
       "      <td>NaN</td>\n",
       "      <td>NaN</td>\n",
       "      <td>NaN</td>\n",
       "      <td>NaN</td>\n",
       "      <td>NaN</td>\n",
       "      <td>NaN</td>\n",
       "      <td>NaN</td>\n",
       "      <td>NaN</td>\n",
       "      <td>NaN</td>\n",
       "      <td>NaN</td>\n",
       "      <td>NaN</td>\n",
       "      <td>NaN</td>\n",
       "      <td>NaN</td>\n",
       "      <td>NaN</td>\n",
       "      <td>NaN</td>\n",
       "      <td>NaN</td>\n",
       "      <td>NaN</td>\n",
       "      <td>NaN</td>\n",
       "      <td>NaN</td>\n",
       "      <td>NaN</td>\n",
       "      <td>NaN</td>\n",
       "      <td>NaN</td>\n",
       "      <td>NaN</td>\n",
       "      <td>NaN</td>\n",
       "      <td>NaN</td>\n",
       "      <td>NaN</td>\n",
       "      <td>6/26/2007</td>\n",
       "    </tr>\n",
       "    <tr>\n",
       "      <th>4</th>\n",
       "      <td>74466504838</td>\n",
       "      <td>2012-01-01T04:52:00</td>\n",
       "      <td>FM-15</td>\n",
       "      <td>7</td>\n",
       "      <td>NaN</td>\n",
       "      <td>NaN</td>\n",
       "      <td>NaN</td>\n",
       "      <td>NaN</td>\n",
       "      <td>NaN</td>\n",
       "      <td>NaN</td>\n",
       "      <td>NaN</td>\n",
       "      <td>NaN</td>\n",
       "      <td>NaN</td>\n",
       "      <td>NaN</td>\n",
       "      <td>NaN</td>\n",
       "      <td>NaN</td>\n",
       "      <td>NaN</td>\n",
       "      <td>NaN</td>\n",
       "      <td>NaN</td>\n",
       "      <td>NaN</td>\n",
       "      <td>NaN</td>\n",
       "      <td>NaN</td>\n",
       "      <td>NaN</td>\n",
       "      <td>NaN</td>\n",
       "      <td>NaN</td>\n",
       "      <td>NaN</td>\n",
       "      <td>NaN</td>\n",
       "      <td>NaN</td>\n",
       "      <td>NaN</td>\n",
       "      <td>NaN</td>\n",
       "      <td>NaN</td>\n",
       "      <td>NaN</td>\n",
       "      <td>NaN</td>\n",
       "      <td>NaN</td>\n",
       "      <td>NaN</td>\n",
       "      <td>NaN</td>\n",
       "      <td>NaN</td>\n",
       "      <td>NaN</td>\n",
       "      <td>NaN</td>\n",
       "      <td>NaN</td>\n",
       "      <td>NaN</td>\n",
       "      <td>NaN</td>\n",
       "      <td>29.51</td>\n",
       "      <td>36.0</td>\n",
       "      <td>45</td>\n",
       "      <td>0</td>\n",
       "      <td>NaN</td>\n",
       "      <td>NaN</td>\n",
       "      <td>NaN</td>\n",
       "      <td>71.0</td>\n",
       "      <td>29.52</td>\n",
       "      <td>OVC:08 60</td>\n",
       "      <td>28.82</td>\n",
       "      <td>10</td>\n",
       "      <td>41.0</td>\n",
       "      <td>230</td>\n",
       "      <td>17.0</td>\n",
       "      <td>10.0</td>\n",
       "      <td>NaN</td>\n",
       "      <td>NaN</td>\n",
       "      <td>NaN</td>\n",
       "      <td>NaN</td>\n",
       "      <td>NaN</td>\n",
       "      <td>NaN</td>\n",
       "      <td>NaN</td>\n",
       "      <td>NaN</td>\n",
       "      <td>NaN</td>\n",
       "      <td>NaN</td>\n",
       "      <td>NaN</td>\n",
       "      <td>NaN</td>\n",
       "      <td>NaN</td>\n",
       "      <td>NaN</td>\n",
       "      <td>NaN</td>\n",
       "      <td>NaN</td>\n",
       "      <td>NaN</td>\n",
       "      <td>NaN</td>\n",
       "      <td>NaN</td>\n",
       "      <td>NaN</td>\n",
       "      <td>NaN</td>\n",
       "      <td>NaN</td>\n",
       "      <td>NaN</td>\n",
       "      <td>NaN</td>\n",
       "      <td>NaN</td>\n",
       "      <td>NaN</td>\n",
       "      <td>NaN</td>\n",
       "      <td>NaN</td>\n",
       "      <td>NaN</td>\n",
       "      <td>NaN</td>\n",
       "      <td>NaN</td>\n",
       "      <td>NaN</td>\n",
       "      <td>NaN</td>\n",
       "      <td>NaN</td>\n",
       "      <td>NaN</td>\n",
       "      <td>NaN</td>\n",
       "      <td>MET09601/01/12 04:52:02 METAR KPWK 011052Z 230...</td>\n",
       "      <td>FM-15</td>\n",
       "      <td>7</td>\n",
       "      <td>NaN</td>\n",
       "      <td>NaN</td>\n",
       "      <td>NaN</td>\n",
       "      <td>NaN</td>\n",
       "      <td>NaN</td>\n",
       "      <td>NaN</td>\n",
       "      <td>NaN</td>\n",
       "      <td>NaN</td>\n",
       "      <td>NaN</td>\n",
       "      <td>NaN</td>\n",
       "      <td>NaN</td>\n",
       "      <td>NaN</td>\n",
       "      <td>NaN</td>\n",
       "      <td>NaN</td>\n",
       "      <td>NaN</td>\n",
       "      <td>NaN</td>\n",
       "      <td>NaN</td>\n",
       "      <td>NaN</td>\n",
       "      <td>NaN</td>\n",
       "      <td>NaN</td>\n",
       "      <td>NaN</td>\n",
       "      <td>NaN</td>\n",
       "      <td>NaN</td>\n",
       "      <td>NaN</td>\n",
       "      <td>NaN</td>\n",
       "      <td>NaN</td>\n",
       "      <td>6/26/2007</td>\n",
       "    </tr>\n",
       "  </tbody>\n",
       "</table>\n",
       "</div>"
      ],
      "text/plain": [
       "       STATION                 DATE REPORT_TYPE SOURCE  AWND  BackupDirection  \\\n",
       "0  74466504838  2012-01-01T00:52:00       FM-15      7   NaN              NaN   \n",
       "1  74466504838  2012-01-01T01:52:00       FM-15      7   NaN              NaN   \n",
       "2  74466504838  2012-01-01T02:52:00       FM-15      7   NaN              NaN   \n",
       "3  74466504838  2012-01-01T03:52:00       FM-15      7   NaN              NaN   \n",
       "4  74466504838  2012-01-01T04:52:00       FM-15      7   NaN              NaN   \n",
       "\n",
       "   BackupDistance  BackupDistanceUnit  BackupElements  BackupElevation  \\\n",
       "0             NaN                 NaN             NaN              NaN   \n",
       "1             NaN                 NaN             NaN              NaN   \n",
       "2             NaN                 NaN             NaN              NaN   \n",
       "3             NaN                 NaN             NaN              NaN   \n",
       "4             NaN                 NaN             NaN              NaN   \n",
       "\n",
       "   BackupElevationUnit  BackupEquipment  BackupLatitude  BackupLongitude  \\\n",
       "0                  NaN              NaN             NaN              NaN   \n",
       "1                  NaN              NaN             NaN              NaN   \n",
       "2                  NaN              NaN             NaN              NaN   \n",
       "3                  NaN              NaN             NaN              NaN   \n",
       "4                  NaN              NaN             NaN              NaN   \n",
       "\n",
       "   BackupName  CDSD  CLDD  DSNW  DYHF  DYTS  DailyAverageDewPointTemperature  \\\n",
       "0         NaN   NaN   NaN   NaN   NaN   NaN                              NaN   \n",
       "1         NaN   NaN   NaN   NaN   NaN   NaN                              NaN   \n",
       "2         NaN   NaN   NaN   NaN   NaN   NaN                              NaN   \n",
       "3         NaN   NaN   NaN   NaN   NaN   NaN                              NaN   \n",
       "4         NaN   NaN   NaN   NaN   NaN   NaN                              NaN   \n",
       "\n",
       "  DailyAverageDryBulbTemperature  DailyAverageRelativeHumidity  \\\n",
       "0                            NaN                           NaN   \n",
       "1                            NaN                           NaN   \n",
       "2                            NaN                           NaN   \n",
       "3                            NaN                           NaN   \n",
       "4                            NaN                           NaN   \n",
       "\n",
       "   DailyAverageSeaLevelPressure  DailyAverageStationPressure  \\\n",
       "0                           NaN                          NaN   \n",
       "1                           NaN                          NaN   \n",
       "2                           NaN                          NaN   \n",
       "3                           NaN                          NaN   \n",
       "4                           NaN                          NaN   \n",
       "\n",
       "   DailyAverageWetBulbTemperature  DailyAverageWindSpeed  \\\n",
       "0                             NaN                    NaN   \n",
       "1                             NaN                    NaN   \n",
       "2                             NaN                    NaN   \n",
       "3                             NaN                    NaN   \n",
       "4                             NaN                    NaN   \n",
       "\n",
       "  DailyCoolingDegreeDays DailyDepartureFromNormalAverageTemperature  \\\n",
       "0                    NaN                                        NaN   \n",
       "1                    NaN                                        NaN   \n",
       "2                    NaN                                        NaN   \n",
       "3                    NaN                                        NaN   \n",
       "4                    NaN                                        NaN   \n",
       "\n",
       "  DailyHeatingDegreeDays DailyMaximumDryBulbTemperature  \\\n",
       "0                    NaN                            NaN   \n",
       "1                    NaN                            NaN   \n",
       "2                    NaN                            NaN   \n",
       "3                    NaN                            NaN   \n",
       "4                    NaN                            NaN   \n",
       "\n",
       "  DailyMinimumDryBulbTemperature DailyPeakWindDirection DailyPeakWindSpeed  \\\n",
       "0                            NaN                    NaN                NaN   \n",
       "1                            NaN                    NaN                NaN   \n",
       "2                            NaN                    NaN                NaN   \n",
       "3                            NaN                    NaN                NaN   \n",
       "4                            NaN                    NaN                NaN   \n",
       "\n",
       "  DailyPrecipitation  DailySnowDepth  DailySnowfall  \\\n",
       "0                NaN             NaN            NaN   \n",
       "1                NaN             NaN            NaN   \n",
       "2                NaN             NaN            NaN   \n",
       "3                NaN             NaN            NaN   \n",
       "4                NaN             NaN            NaN   \n",
       "\n",
       "  DailySustainedWindDirection DailySustainedWindSpeed DailyWeather  HDSD  \\\n",
       "0                         NaN                     NaN          NaN   NaN   \n",
       "1                         NaN                     NaN          NaN   NaN   \n",
       "2                         NaN                     NaN          NaN   NaN   \n",
       "3                         NaN                     NaN          NaN   NaN   \n",
       "4                         NaN                     NaN          NaN   NaN   \n",
       "\n",
       "   HTDD HourlyAltimeterSetting HourlyDewPointTemperature  \\\n",
       "0   NaN                  29.61                      35.0   \n",
       "1   NaN                  29.56                      35.0   \n",
       "2   NaN                  29.53                      34.0   \n",
       "3   NaN                  29.52                      35.0   \n",
       "4   NaN                  29.51                      36.0   \n",
       "\n",
       "  HourlyDryBulbTemperature HourlyPrecipitation HourlyPresentWeatherType  \\\n",
       "0                       40                   0                      NaN   \n",
       "1                       42                   0                      NaN   \n",
       "2                       41                   0                      NaN   \n",
       "3                       42                   0                      NaN   \n",
       "4                       45                   0                      NaN   \n",
       "\n",
       "   HourlyPressureChange  HourlyPressureTendency HourlyRelativeHumidity  \\\n",
       "0                   NaN                     NaN                   83.0   \n",
       "1                   NaN                     NaN                   76.0   \n",
       "2                  0.14                     6.0                   76.0   \n",
       "3                   NaN                     NaN                   76.0   \n",
       "4                   NaN                     NaN                   71.0   \n",
       "\n",
       "  HourlySeaLevelPressure HourlySkyConditions HourlyStationPressure  \\\n",
       "0                  29.62                 NaN                 28.92   \n",
       "1                  29.57                 NaN                 28.87   \n",
       "2                  29.54                 NaN                 28.84   \n",
       "3                  29.53                 NaN                 28.84   \n",
       "4                  29.52           OVC:08 60                 28.82   \n",
       "\n",
       "  HourlyVisibility HourlyWetBulbTemperature HourlyWindDirection  \\\n",
       "0               10                     38.0                 170   \n",
       "1               10                     39.0                 170   \n",
       "2               10                     38.0                 180   \n",
       "3               10                     39.0                 200   \n",
       "4               10                     41.0                 230   \n",
       "\n",
       "  HourlyWindGustSpeed HourlyWindSpeed  MonthlyAverageRH  \\\n",
       "0                 NaN            10.0               NaN   \n",
       "1                 NaN            11.0               NaN   \n",
       "2                 NaN             8.0               NaN   \n",
       "3                 NaN             6.0               NaN   \n",
       "4                17.0            10.0               NaN   \n",
       "\n",
       "  MonthlyDaysWithGT001Precip MonthlyDaysWithGT010Precip  \\\n",
       "0                        NaN                        NaN   \n",
       "1                        NaN                        NaN   \n",
       "2                        NaN                        NaN   \n",
       "3                        NaN                        NaN   \n",
       "4                        NaN                        NaN   \n",
       "\n",
       "  MonthlyDaysWithGT32Temp MonthlyDaysWithGT90Temp MonthlyDaysWithLT0Temp  \\\n",
       "0                     NaN                     NaN                    NaN   \n",
       "1                     NaN                     NaN                    NaN   \n",
       "2                     NaN                     NaN                    NaN   \n",
       "3                     NaN                     NaN                    NaN   \n",
       "4                     NaN                     NaN                    NaN   \n",
       "\n",
       "  MonthlyDaysWithLT32Temp  MonthlyDepartureFromNormalAverageTemperature  \\\n",
       "0                     NaN                                           NaN   \n",
       "1                     NaN                                           NaN   \n",
       "2                     NaN                                           NaN   \n",
       "3                     NaN                                           NaN   \n",
       "4                     NaN                                           NaN   \n",
       "\n",
       "   MonthlyDepartureFromNormalCoolingDegreeDays  \\\n",
       "0                                          NaN   \n",
       "1                                          NaN   \n",
       "2                                          NaN   \n",
       "3                                          NaN   \n",
       "4                                          NaN   \n",
       "\n",
       "   MonthlyDepartureFromNormalHeatingDegreeDays  \\\n",
       "0                                          NaN   \n",
       "1                                          NaN   \n",
       "2                                          NaN   \n",
       "3                                          NaN   \n",
       "4                                          NaN   \n",
       "\n",
       "   MonthlyDepartureFromNormalMaximumTemperature  \\\n",
       "0                                           NaN   \n",
       "1                                           NaN   \n",
       "2                                           NaN   \n",
       "3                                           NaN   \n",
       "4                                           NaN   \n",
       "\n",
       "   MonthlyDepartureFromNormalMinimumTemperature  \\\n",
       "0                                           NaN   \n",
       "1                                           NaN   \n",
       "2                                           NaN   \n",
       "3                                           NaN   \n",
       "4                                           NaN   \n",
       "\n",
       "  MonthlyDepartureFromNormalPrecipitation  MonthlyDewpointTemperature  \\\n",
       "0                                     NaN                         NaN   \n",
       "1                                     NaN                         NaN   \n",
       "2                                     NaN                         NaN   \n",
       "3                                     NaN                         NaN   \n",
       "4                                     NaN                         NaN   \n",
       "\n",
       "  MonthlyGreatestPrecip MonthlyGreatestPrecipDate  MonthlyGreatestSnowDepth  \\\n",
       "0                   NaN                       NaN                       NaN   \n",
       "1                   NaN                       NaN                       NaN   \n",
       "2                   NaN                       NaN                       NaN   \n",
       "3                   NaN                       NaN                       NaN   \n",
       "4                   NaN                       NaN                       NaN   \n",
       "\n",
       "   MonthlyGreatestSnowDepthDate  MonthlyGreatestSnowfall  \\\n",
       "0                           NaN                      NaN   \n",
       "1                           NaN                      NaN   \n",
       "2                           NaN                      NaN   \n",
       "3                           NaN                      NaN   \n",
       "4                           NaN                      NaN   \n",
       "\n",
       "   MonthlyGreatestSnowfallDate  MonthlyMaxSeaLevelPressureValue  \\\n",
       "0                          NaN                              NaN   \n",
       "1                          NaN                              NaN   \n",
       "2                          NaN                              NaN   \n",
       "3                          NaN                              NaN   \n",
       "4                          NaN                              NaN   \n",
       "\n",
       "   MonthlyMaxSeaLevelPressureValueDate  MonthlyMaxSeaLevelPressureValueTime  \\\n",
       "0                                  NaN                                  NaN   \n",
       "1                                  NaN                                  NaN   \n",
       "2                                  NaN                                  NaN   \n",
       "3                                  NaN                                  NaN   \n",
       "4                                  NaN                                  NaN   \n",
       "\n",
       "   MonthlyMaximumTemperature  MonthlyMeanTemperature  \\\n",
       "0                        NaN                     NaN   \n",
       "1                        NaN                     NaN   \n",
       "2                        NaN                     NaN   \n",
       "3                        NaN                     NaN   \n",
       "4                        NaN                     NaN   \n",
       "\n",
       "   MonthlyMinSeaLevelPressureValue  MonthlyMinSeaLevelPressureValueDate  \\\n",
       "0                              NaN                                  NaN   \n",
       "1                              NaN                                  NaN   \n",
       "2                              NaN                                  NaN   \n",
       "3                              NaN                                  NaN   \n",
       "4                              NaN                                  NaN   \n",
       "\n",
       "   MonthlyMinSeaLevelPressureValueTime  MonthlyMinimumTemperature  \\\n",
       "0                                  NaN                        NaN   \n",
       "1                                  NaN                        NaN   \n",
       "2                                  NaN                        NaN   \n",
       "3                                  NaN                        NaN   \n",
       "4                                  NaN                        NaN   \n",
       "\n",
       "   MonthlySeaLevelPressure  MonthlyStationPressure  \\\n",
       "0                      NaN                     NaN   \n",
       "1                      NaN                     NaN   \n",
       "2                      NaN                     NaN   \n",
       "3                      NaN                     NaN   \n",
       "4                      NaN                     NaN   \n",
       "\n",
       "  MonthlyTotalLiquidPrecipitation  MonthlyTotalSnowfall  MonthlyWetBulb  \\\n",
       "0                             NaN                   NaN             NaN   \n",
       "1                             NaN                   NaN             NaN   \n",
       "2                             NaN                   NaN             NaN   \n",
       "3                             NaN                   NaN             NaN   \n",
       "4                             NaN                   NaN             NaN   \n",
       "\n",
       "   NormalsCoolingDegreeDay  NormalsHeatingDegreeDay  \\\n",
       "0                      NaN                      NaN   \n",
       "1                      NaN                      NaN   \n",
       "2                      NaN                      NaN   \n",
       "3                      NaN                      NaN   \n",
       "4                      NaN                      NaN   \n",
       "\n",
       "                                                 REM REPORT_TYPE.1 SOURCE.1  \\\n",
       "0  MET09701/01/12 00:52:02 METAR KPWK 010652Z 170...         FM-15        7   \n",
       "1  MET09001/01/12 01:52:02 METAR KPWK 010752Z 170...         FM-15        7   \n",
       "2  MET09601/01/12 02:52:02 METAR KPWK 010852Z 180...         FM-15        7   \n",
       "3  MET09001/01/12 03:52:02 METAR KPWK 010952Z 200...         FM-15        7   \n",
       "4  MET09601/01/12 04:52:02 METAR KPWK 011052Z 230...         FM-15        7   \n",
       "\n",
       "  ShortDurationEndDate005 ShortDurationEndDate010 ShortDurationEndDate015  \\\n",
       "0                     NaN                     NaN                     NaN   \n",
       "1                     NaN                     NaN                     NaN   \n",
       "2                     NaN                     NaN                     NaN   \n",
       "3                     NaN                     NaN                     NaN   \n",
       "4                     NaN                     NaN                     NaN   \n",
       "\n",
       "  ShortDurationEndDate020 ShortDurationEndDate030 ShortDurationEndDate045  \\\n",
       "0                     NaN                     NaN                     NaN   \n",
       "1                     NaN                     NaN                     NaN   \n",
       "2                     NaN                     NaN                     NaN   \n",
       "3                     NaN                     NaN                     NaN   \n",
       "4                     NaN                     NaN                     NaN   \n",
       "\n",
       "  ShortDurationEndDate060 ShortDurationEndDate080 ShortDurationEndDate100  \\\n",
       "0                     NaN                     NaN                     NaN   \n",
       "1                     NaN                     NaN                     NaN   \n",
       "2                     NaN                     NaN                     NaN   \n",
       "3                     NaN                     NaN                     NaN   \n",
       "4                     NaN                     NaN                     NaN   \n",
       "\n",
       "  ShortDurationEndDate120 ShortDurationEndDate150 ShortDurationEndDate180  \\\n",
       "0                     NaN                     NaN                     NaN   \n",
       "1                     NaN                     NaN                     NaN   \n",
       "2                     NaN                     NaN                     NaN   \n",
       "3                     NaN                     NaN                     NaN   \n",
       "4                     NaN                     NaN                     NaN   \n",
       "\n",
       "   ShortDurationPrecipitationValue005  ShortDurationPrecipitationValue010  \\\n",
       "0                                 NaN                                 NaN   \n",
       "1                                 NaN                                 NaN   \n",
       "2                                 NaN                                 NaN   \n",
       "3                                 NaN                                 NaN   \n",
       "4                                 NaN                                 NaN   \n",
       "\n",
       "   ShortDurationPrecipitationValue015  ShortDurationPrecipitationValue020  \\\n",
       "0                                 NaN                                 NaN   \n",
       "1                                 NaN                                 NaN   \n",
       "2                                 NaN                                 NaN   \n",
       "3                                 NaN                                 NaN   \n",
       "4                                 NaN                                 NaN   \n",
       "\n",
       "   ShortDurationPrecipitationValue030 ShortDurationPrecipitationValue045  \\\n",
       "0                                 NaN                                NaN   \n",
       "1                                 NaN                                NaN   \n",
       "2                                 NaN                                NaN   \n",
       "3                                 NaN                                NaN   \n",
       "4                                 NaN                                NaN   \n",
       "\n",
       "  ShortDurationPrecipitationValue060  ShortDurationPrecipitationValue080  \\\n",
       "0                                NaN                                 NaN   \n",
       "1                                NaN                                 NaN   \n",
       "2                                NaN                                 NaN   \n",
       "3                                NaN                                 NaN   \n",
       "4                                NaN                                 NaN   \n",
       "\n",
       "   ShortDurationPrecipitationValue100 ShortDurationPrecipitationValue120  \\\n",
       "0                                 NaN                                NaN   \n",
       "1                                 NaN                                NaN   \n",
       "2                                 NaN                                NaN   \n",
       "3                                 NaN                                NaN   \n",
       "4                                 NaN                                NaN   \n",
       "\n",
       "   ShortDurationPrecipitationValue150 ShortDurationPrecipitationValue180  \\\n",
       "0                                 NaN                                NaN   \n",
       "1                                 NaN                                NaN   \n",
       "2                                 NaN                                NaN   \n",
       "3                                 NaN                                NaN   \n",
       "4                                 NaN                                NaN   \n",
       "\n",
       "   Sunrise  Sunset WindEquipmentChangeDate  \n",
       "0      NaN     NaN               6/26/2007  \n",
       "1      NaN     NaN               6/26/2007  \n",
       "2      NaN     NaN               6/26/2007  \n",
       "3      NaN     NaN               6/26/2007  \n",
       "4      NaN     NaN               6/26/2007  "
      ]
     },
     "execution_count": 75,
     "metadata": {},
     "output_type": "execute_result"
    }
   ],
   "source": [
    "# Review column options and data for model inclusion.\n",
    "\n",
    "pd.options.display.max_columns = 500\n",
    "airport_df.head()"
   ]
  },
  {
   "cell_type": "markdown",
   "id": "5da28038",
   "metadata": {},
   "source": [
    "**Background on Data**\n",
    "1) The data is organized by report type. A FM-15 record is a routine aviation record and should contain hourly measurements of weather. A FM-16 record is a special aviation report. Analysis will need to be conducted about whether this data is useful for parts of the intended analysis. Other types include 'SOD', which is a daily summary, and 'SOM', which is a summary of the month.\n",
    "\n",
    "2) Data is a ten-year hourly average from 1/1/2012 to 12/7/2021.\n",
    "\n",
    "3) Data is for the weather station located in Des Plaines, IL local airport."
   ]
  },
  {
   "cell_type": "code",
   "execution_count": 76,
   "id": "354fba4b",
   "metadata": {},
   "outputs": [
    {
     "data": {
      "text/plain": [
       "array(['FM-15', 'FM-16', 'SOD  ', 'SOM  '], dtype=object)"
      ]
     },
     "execution_count": 76,
     "metadata": {},
     "output_type": "execute_result"
    }
   ],
   "source": [
    "# Types of Records Present in Dataset\n",
    "\n",
    "airport_df['REPORT_TYPE'].unique()"
   ]
  },
  {
   "cell_type": "code",
   "execution_count": 77,
   "id": "29891c77",
   "metadata": {},
   "outputs": [
    {
     "data": {
      "text/plain": [
       "0         2012-01-01T00:52:00\n",
       "1         2012-01-01T01:52:00\n",
       "2         2012-01-01T02:52:00\n",
       "3         2012-01-01T03:52:00\n",
       "4         2012-01-01T04:52:00\n",
       "                 ...         \n",
       "116401    2021-12-06T23:52:00\n",
       "116402    2021-12-06T23:59:00\n",
       "116403    2021-12-07T00:52:00\n",
       "116404    2021-12-07T01:52:00\n",
       "116405    2021-12-07T02:52:00\n",
       "Name: DATE, Length: 116406, dtype: object"
      ]
     },
     "execution_count": 77,
     "metadata": {},
     "output_type": "execute_result"
    }
   ],
   "source": [
    "# Dates present in the data set.\n",
    "\n",
    "airport_df['DATE']"
   ]
  },
  {
   "cell_type": "markdown",
   "id": "f4fb0ced",
   "metadata": {},
   "source": [
    "### DATA PROCESSING"
   ]
  },
  {
   "cell_type": "code",
   "execution_count": 78,
   "id": "4b53bf9e",
   "metadata": {},
   "outputs": [],
   "source": [
    "# Reprocess the date field to a Pandas datetime object. Add a field for month\n",
    "\n",
    "airport_df['Date_Clean'] = pd.to_datetime(airport_df['DATE'])"
   ]
  },
  {
   "cell_type": "code",
   "execution_count": 79,
   "id": "45d2b02a",
   "metadata": {},
   "outputs": [],
   "source": [
    "airport_df['Date_Month'] = airport_df['Date_Clean'].dt.month\n",
    "airport_df['Date_Day'] = airport_df['Date_Clean'].dt.day\n",
    "airport_df['Date_Year'] = airport_df['Date_Clean'].dt.year"
   ]
  },
  {
   "cell_type": "code",
   "execution_count": 80,
   "id": "9624d388",
   "metadata": {},
   "outputs": [],
   "source": [
    "# Create tuple of day and month. This will be used to join airport data set to the monthly flight count data set.\n",
    "\n",
    "airport_df['Date_Year_Month'] = list(zip(airport_df['Date_Year'], airport_df['Date_Month']))"
   ]
  },
  {
   "cell_type": "code",
   "execution_count": 81,
   "id": "d5a1c453",
   "metadata": {},
   "outputs": [],
   "source": [
    "# Change Field Values for Report Type field to remove extra spaces.\n",
    "airport_df['REPORT_TYPE_Clean'] = airport_df['REPORT_TYPE'].str.strip()"
   ]
  },
  {
   "cell_type": "code",
   "execution_count": 82,
   "id": "57f20bfe",
   "metadata": {},
   "outputs": [],
   "source": [
    "# Dry Bulb Temperature is the temperature used most often. It is measured using a thermometer exposed to air but\n",
    "# protected from moisture. Key fields are: 'DailyAverageDryBulbTemperature', 'DailyMaximumDryBulbTemperature', 'DailyMinimumDryBulbTemperature'.\n",
    "\n",
    "# An \"s\" is appended to any value deemed to be suspect. Create a new column to exclude the 43 values where an \"s\" is\n",
    "# shown for temperature. Most values are for June 2019, so we'll need to evaluate that month specifically.\n",
    "\n",
    "airport_df['DailyAverageTemperature_Clean'] = airport_df['DailyAverageDryBulbTemperature']\\\n",
    "                                                        .map(lambda x: str(x).replace('s',''))\\\n",
    "                                                        .astype('float')"
   ]
  },
  {
   "cell_type": "code",
   "execution_count": 83,
   "id": "431eee53",
   "metadata": {},
   "outputs": [
    {
     "data": {
      "text/html": [
       "<div>\n",
       "<style scoped>\n",
       "    .dataframe tbody tr th:only-of-type {\n",
       "        vertical-align: middle;\n",
       "    }\n",
       "\n",
       "    .dataframe tbody tr th {\n",
       "        vertical-align: top;\n",
       "    }\n",
       "\n",
       "    .dataframe thead th {\n",
       "        text-align: right;\n",
       "    }\n",
       "</style>\n",
       "<table border=\"1\" class=\"dataframe\">\n",
       "  <thead>\n",
       "    <tr style=\"text-align: right;\">\n",
       "      <th></th>\n",
       "      <th>DATE</th>\n",
       "      <th>Date_Month</th>\n",
       "      <th>Date_Day</th>\n",
       "      <th>Date_Year</th>\n",
       "      <th>Date_Year_Month</th>\n",
       "    </tr>\n",
       "  </thead>\n",
       "  <tbody>\n",
       "    <tr>\n",
       "      <th>999</th>\n",
       "      <td>2012-01-31T23:59:00</td>\n",
       "      <td>1</td>\n",
       "      <td>31</td>\n",
       "      <td>2012</td>\n",
       "      <td>(2012, 1)</td>\n",
       "    </tr>\n",
       "    <tr>\n",
       "      <th>1945</th>\n",
       "      <td>2012-02-29T23:59:00</td>\n",
       "      <td>2</td>\n",
       "      <td>29</td>\n",
       "      <td>2012</td>\n",
       "      <td>(2012, 2)</td>\n",
       "    </tr>\n",
       "    <tr>\n",
       "      <th>2911</th>\n",
       "      <td>2012-03-31T23:59:00</td>\n",
       "      <td>3</td>\n",
       "      <td>31</td>\n",
       "      <td>2012</td>\n",
       "      <td>(2012, 3)</td>\n",
       "    </tr>\n",
       "    <tr>\n",
       "      <th>3771</th>\n",
       "      <td>2012-04-30T23:59:00</td>\n",
       "      <td>4</td>\n",
       "      <td>30</td>\n",
       "      <td>2012</td>\n",
       "      <td>(2012, 4)</td>\n",
       "    </tr>\n",
       "    <tr>\n",
       "      <th>4708</th>\n",
       "      <td>2012-05-31T23:59:00</td>\n",
       "      <td>5</td>\n",
       "      <td>31</td>\n",
       "      <td>2012</td>\n",
       "      <td>(2012, 5)</td>\n",
       "    </tr>\n",
       "    <tr>\n",
       "      <th>...</th>\n",
       "      <td>...</td>\n",
       "      <td>...</td>\n",
       "      <td>...</td>\n",
       "      <td>...</td>\n",
       "      <td>...</td>\n",
       "    </tr>\n",
       "    <tr>\n",
       "      <th>112422</th>\n",
       "      <td>2021-07-31T23:59:00</td>\n",
       "      <td>7</td>\n",
       "      <td>31</td>\n",
       "      <td>2021</td>\n",
       "      <td>(2021, 7)</td>\n",
       "    </tr>\n",
       "    <tr>\n",
       "      <th>113356</th>\n",
       "      <td>2021-08-31T23:59:00</td>\n",
       "      <td>8</td>\n",
       "      <td>31</td>\n",
       "      <td>2021</td>\n",
       "      <td>(2021, 8)</td>\n",
       "    </tr>\n",
       "    <tr>\n",
       "      <th>114195</th>\n",
       "      <td>2021-09-30T23:59:00</td>\n",
       "      <td>9</td>\n",
       "      <td>30</td>\n",
       "      <td>2021</td>\n",
       "      <td>(2021, 9)</td>\n",
       "    </tr>\n",
       "    <tr>\n",
       "      <th>115321</th>\n",
       "      <td>2021-10-31T23:59:00</td>\n",
       "      <td>10</td>\n",
       "      <td>31</td>\n",
       "      <td>2021</td>\n",
       "      <td>(2021, 10)</td>\n",
       "    </tr>\n",
       "    <tr>\n",
       "      <th>116197</th>\n",
       "      <td>2021-11-30T23:59:00</td>\n",
       "      <td>11</td>\n",
       "      <td>30</td>\n",
       "      <td>2021</td>\n",
       "      <td>(2021, 11)</td>\n",
       "    </tr>\n",
       "  </tbody>\n",
       "</table>\n",
       "<p>117 rows × 5 columns</p>\n",
       "</div>"
      ],
      "text/plain": [
       "                       DATE  Date_Month  Date_Day  Date_Year Date_Year_Month\n",
       "999     2012-01-31T23:59:00           1        31       2012       (2012, 1)\n",
       "1945    2012-02-29T23:59:00           2        29       2012       (2012, 2)\n",
       "2911    2012-03-31T23:59:00           3        31       2012       (2012, 3)\n",
       "3771    2012-04-30T23:59:00           4        30       2012       (2012, 4)\n",
       "4708    2012-05-31T23:59:00           5        31       2012       (2012, 5)\n",
       "...                     ...         ...       ...        ...             ...\n",
       "112422  2021-07-31T23:59:00           7        31       2021       (2021, 7)\n",
       "113356  2021-08-31T23:59:00           8        31       2021       (2021, 8)\n",
       "114195  2021-09-30T23:59:00           9        30       2021       (2021, 9)\n",
       "115321  2021-10-31T23:59:00          10        31       2021      (2021, 10)\n",
       "116197  2021-11-30T23:59:00          11        30       2021      (2021, 11)\n",
       "\n",
       "[117 rows x 5 columns]"
      ]
     },
     "execution_count": 83,
     "metadata": {},
     "output_type": "execute_result"
    }
   ],
   "source": [
    "airport_df.loc[airport_df['REPORT_TYPE_Clean']==\"SOM\", ['DATE','Date_Month', 'Date_Day', 'Date_Year','Date_Year_Month']]"
   ]
  },
  {
   "cell_type": "code",
   "execution_count": 84,
   "id": "b28d0c0c",
   "metadata": {},
   "outputs": [],
   "source": [
    "# Clean 'MonthlyTotalLiquidPrecipitation' and convert to numerical values.\n",
    "\n",
    "airport_df['MonthlyTotalLiquidPrecipitation_Clean'] = airport_df['MonthlyTotalLiquidPrecipitation']\\\n",
    "                                                        .map(lambda x: str(x).replace('T','0'))\n",
    "\n",
    "airport_df['MonthlyTotalLiquidPrecipitation_Clean'] = airport_df['MonthlyTotalLiquidPrecipitation_Clean']\\\n",
    "                                                        .map(lambda x: str(x).replace('s',''))\\\n",
    "                                                        .astype('float')"
   ]
  },
  {
   "cell_type": "code",
   "execution_count": 85,
   "id": "efee4871",
   "metadata": {},
   "outputs": [],
   "source": [
    "# Clean 'MonthlyDaysWithLT32Temp' and convert to numerical values.\n",
    "\n",
    "airport_df['MonthlyDaysWithLT32Temp_Clean'] = airport_df['MonthlyDaysWithLT32Temp']\\\n",
    "                                                        .map(lambda x: str(x).replace('s',''))\\\n",
    "                                                        .astype('float')"
   ]
  },
  {
   "cell_type": "code",
   "execution_count": 86,
   "id": "1f8efe6f",
   "metadata": {},
   "outputs": [],
   "source": [
    "# Add variable for Wind Gust Count where Peak Wind Speed Exceeds 30mph\n",
    "airport_df['DailyPeakWindSpeed_Clean'] = airport_df['DailyPeakWindSpeed'].map(lambda x: str(x).replace('*','0'))\n",
    "\n",
    "airport_df['DailyPeakWindSpeed_Clean'] = airport_df['DailyPeakWindSpeed_Clean']\\\n",
    "                                            .map(lambda x: str(x).replace('s',''))\\\n",
    "                                            .astype('float')\n",
    "\n",
    "airport_df['Wind_Gust_Count'] = ['1' if x>30 else '0' for x in airport_df['DailyPeakWindSpeed_Clean']]\\\n",
    "\n",
    "airport_df['Wind_Gust_Count'] = airport_df['Wind_Gust_Count'].astype(float)"
   ]
  },
  {
   "cell_type": "code",
   "execution_count": 87,
   "id": "007d2617",
   "metadata": {},
   "outputs": [],
   "source": [
    "# Wind Gust Count is calculated on a daily basis. Need to aggregate and append to monthly attributes.\n",
    "WindGustOver30_df = airport_df.groupby('Date_Year_Month')['Wind_Gust_Count'].sum()"
   ]
  },
  {
   "cell_type": "code",
   "execution_count": 88,
   "id": "3c1b6df1",
   "metadata": {},
   "outputs": [],
   "source": [
    "# Add Seasonal Calculation to Segment Variables for Winter and Other Seasons. Set winter to months 1, 2, and 12 (see CDF).\n",
    "\n",
    "airport_df['Season'] = \"Not Winter\"\n",
    "\n",
    "airport_df.loc[airport_df['Date_Month'].isin([1,2,12]),['Season']] = \"Winter\""
   ]
  },
  {
   "cell_type": "markdown",
   "id": "589a50d1",
   "metadata": {},
   "source": [
    "### APPENDING LOCAL FLIGHTS"
   ]
  },
  {
   "cell_type": "markdown",
   "id": "e8d3eb9b",
   "metadata": {},
   "source": [
    "**Background on Flight Data**\n",
    "Chicago Executive Airport publishes data on the number of flights from the airport. The data is presented monthly. Flight counts are separated into itenerant and local flights. My interest is in the local flights as those align to my intended use. Itenerant flights include larger, executive plans more capable of flying in tougher elements than planes used for local flights. \n",
    "\n",
    "Local flight counts will be the target variable for this analysis.\n",
    "\n",
    "Link to the data file: https://www.chiexec.com/chicago-executive-airport-traffic-statistics"
   ]
  },
  {
   "cell_type": "code",
   "execution_count": 89,
   "id": "8158ac1c",
   "metadata": {},
   "outputs": [],
   "source": [
    "FLIGHT_FILE = \"CEAflightcount.csv\"\n",
    "\n",
    "flight_df = pd.read_csv(FLIGHT_FILE)"
   ]
  },
  {
   "cell_type": "code",
   "execution_count": 90,
   "id": "03183a81",
   "metadata": {},
   "outputs": [],
   "source": [
    "# Create a year and month tuple to join data sets.\n",
    "\n",
    "flight_df['Date_Year_Month'] = list(zip(flight_df['Year'], flight_df['Month']))"
   ]
  },
  {
   "cell_type": "code",
   "execution_count": 91,
   "id": "e873a2fe",
   "metadata": {},
   "outputs": [
    {
     "data": {
      "text/html": [
       "<div>\n",
       "<style scoped>\n",
       "    .dataframe tbody tr th:only-of-type {\n",
       "        vertical-align: middle;\n",
       "    }\n",
       "\n",
       "    .dataframe tbody tr th {\n",
       "        vertical-align: top;\n",
       "    }\n",
       "\n",
       "    .dataframe thead th {\n",
       "        text-align: right;\n",
       "    }\n",
       "</style>\n",
       "<table border=\"1\" class=\"dataframe\">\n",
       "  <thead>\n",
       "    <tr style=\"text-align: right;\">\n",
       "      <th></th>\n",
       "      <th>Date</th>\n",
       "      <th>Month</th>\n",
       "      <th>Year</th>\n",
       "      <th>Itinerant</th>\n",
       "      <th>Local</th>\n",
       "      <th>Total Operations</th>\n",
       "      <th>Date_Year_Month</th>\n",
       "    </tr>\n",
       "  </thead>\n",
       "  <tbody>\n",
       "    <tr>\n",
       "      <th>0</th>\n",
       "      <td>1/1/2021</td>\n",
       "      <td>1</td>\n",
       "      <td>2021</td>\n",
       "      <td>3824</td>\n",
       "      <td>1810</td>\n",
       "      <td>5634</td>\n",
       "      <td>(2021, 1)</td>\n",
       "    </tr>\n",
       "    <tr>\n",
       "      <th>1</th>\n",
       "      <td>2/1/2021</td>\n",
       "      <td>2</td>\n",
       "      <td>2021</td>\n",
       "      <td>3479</td>\n",
       "      <td>1375</td>\n",
       "      <td>4854</td>\n",
       "      <td>(2021, 2)</td>\n",
       "    </tr>\n",
       "    <tr>\n",
       "      <th>2</th>\n",
       "      <td>3/1/2021</td>\n",
       "      <td>3</td>\n",
       "      <td>2021</td>\n",
       "      <td>5379</td>\n",
       "      <td>1649</td>\n",
       "      <td>7028</td>\n",
       "      <td>(2021, 3)</td>\n",
       "    </tr>\n",
       "    <tr>\n",
       "      <th>3</th>\n",
       "      <td>4/1/2021</td>\n",
       "      <td>4</td>\n",
       "      <td>2021</td>\n",
       "      <td>5487</td>\n",
       "      <td>2027</td>\n",
       "      <td>7514</td>\n",
       "      <td>(2021, 4)</td>\n",
       "    </tr>\n",
       "    <tr>\n",
       "      <th>4</th>\n",
       "      <td>5/1/2021</td>\n",
       "      <td>5</td>\n",
       "      <td>2021</td>\n",
       "      <td>6529</td>\n",
       "      <td>2860</td>\n",
       "      <td>9389</td>\n",
       "      <td>(2021, 5)</td>\n",
       "    </tr>\n",
       "  </tbody>\n",
       "</table>\n",
       "</div>"
      ],
      "text/plain": [
       "       Date  Month  Year  Itinerant  Local  Total Operations Date_Year_Month\n",
       "0  1/1/2021      1  2021       3824   1810              5634       (2021, 1)\n",
       "1  2/1/2021      2  2021       3479   1375              4854       (2021, 2)\n",
       "2  3/1/2021      3  2021       5379   1649              7028       (2021, 3)\n",
       "3  4/1/2021      4  2021       5487   2027              7514       (2021, 4)\n",
       "4  5/1/2021      5  2021       6529   2860              9389       (2021, 5)"
      ]
     },
     "execution_count": 91,
     "metadata": {},
     "output_type": "execute_result"
    }
   ],
   "source": [
    "flight_df.head()"
   ]
  },
  {
   "cell_type": "code",
   "execution_count": 92,
   "id": "5f9684fa",
   "metadata": {},
   "outputs": [],
   "source": [
    "combined_df = airport_df.merge(flight_df, how='left', on='Date_Year_Month')"
   ]
  },
  {
   "cell_type": "code",
   "execution_count": 93,
   "id": "db04a652",
   "metadata": {},
   "outputs": [
    {
     "data": {
      "text/plain": [
       "((116406, 136), (116406, 142))"
      ]
     },
     "execution_count": 93,
     "metadata": {},
     "output_type": "execute_result"
    }
   ],
   "source": [
    "# Verify shape of pre and post merged data sets. 6 columns added; no rows duplicated.\n",
    "\n",
    "airport_df.shape, combined_df.shape"
   ]
  },
  {
   "cell_type": "markdown",
   "id": "d05ca6d1",
   "metadata": {},
   "source": [
    "### BUILD MONTHLY MODEL DATA SET"
   ]
  },
  {
   "cell_type": "code",
   "execution_count": 94,
   "id": "6bdd75c8",
   "metadata": {},
   "outputs": [],
   "source": [
    "# Select target variable and model columns\n",
    "\n",
    "model_df = combined_df.loc[combined_df['REPORT_TYPE_Clean']==\"SOM\",\n",
    "                          ['Date_Year_Month', 'Local', 'Season', 'MonthlyMeanTemperature', 'MonthlyDaysWithLT32Temp_Clean', \n",
    "                           'MonthlyTotalLiquidPrecipitation_Clean', 'MonthlySeaLevelPressure']\n",
    "                          ]"
   ]
  },
  {
   "cell_type": "code",
   "execution_count": 95,
   "id": "8e147549",
   "metadata": {},
   "outputs": [],
   "source": [
    "# Append wind gust data frome.\n",
    "\n",
    "model_df = model_df.merge(WindGustOver30_df, how='left', on='Date_Year_Month')"
   ]
  },
  {
   "cell_type": "code",
   "execution_count": 96,
   "id": "9fb5df8c",
   "metadata": {},
   "outputs": [],
   "source": [
    "# Remove any Rows with Null Values and resave dataframe. Removed 27 rows and kept 90. All but 3 rows were \n",
    "# removed because flight data was not available.\n",
    "\n",
    "is_nulls = model_df.isnull().any(axis=1)\n",
    "model_df = model_df.loc[is_nulls!=True]\n",
    "\n",
    "model_df = model_df.reset_index()"
   ]
  },
  {
   "cell_type": "code",
   "execution_count": 97,
   "id": "50fd8cea",
   "metadata": {},
   "outputs": [
    {
     "data": {
      "text/html": [
       "<div>\n",
       "<style scoped>\n",
       "    .dataframe tbody tr th:only-of-type {\n",
       "        vertical-align: middle;\n",
       "    }\n",
       "\n",
       "    .dataframe tbody tr th {\n",
       "        vertical-align: top;\n",
       "    }\n",
       "\n",
       "    .dataframe thead th {\n",
       "        text-align: right;\n",
       "    }\n",
       "</style>\n",
       "<table border=\"1\" class=\"dataframe\">\n",
       "  <thead>\n",
       "    <tr style=\"text-align: right;\">\n",
       "      <th></th>\n",
       "      <th>index</th>\n",
       "      <th>Local</th>\n",
       "      <th>MonthlyMeanTemperature</th>\n",
       "      <th>MonthlyDaysWithLT32Temp_Clean</th>\n",
       "      <th>MonthlyTotalLiquidPrecipitation_Clean</th>\n",
       "      <th>MonthlySeaLevelPressure</th>\n",
       "      <th>Wind_Gust_Count</th>\n",
       "    </tr>\n",
       "  </thead>\n",
       "  <tbody>\n",
       "    <tr>\n",
       "      <th>count</th>\n",
       "      <td>90.000000</td>\n",
       "      <td>90.000000</td>\n",
       "      <td>90.000000</td>\n",
       "      <td>90.000000</td>\n",
       "      <td>90.000000</td>\n",
       "      <td>90.000000</td>\n",
       "      <td>90.000000</td>\n",
       "    </tr>\n",
       "    <tr>\n",
       "      <th>mean</th>\n",
       "      <td>70.900000</td>\n",
       "      <td>1782.988889</td>\n",
       "      <td>50.938889</td>\n",
       "      <td>3.011111</td>\n",
       "      <td>2.876222</td>\n",
       "      <td>30.039889</td>\n",
       "      <td>6.877778</td>\n",
       "    </tr>\n",
       "    <tr>\n",
       "      <th>std</th>\n",
       "      <td>26.857113</td>\n",
       "      <td>615.412778</td>\n",
       "      <td>17.901671</td>\n",
       "      <td>5.206941</td>\n",
       "      <td>2.195644</td>\n",
       "      <td>0.079641</td>\n",
       "      <td>3.034734</td>\n",
       "    </tr>\n",
       "    <tr>\n",
       "      <th>min</th>\n",
       "      <td>25.000000</td>\n",
       "      <td>556.000000</td>\n",
       "      <td>14.900000</td>\n",
       "      <td>0.000000</td>\n",
       "      <td>0.000000</td>\n",
       "      <td>29.860000</td>\n",
       "      <td>0.000000</td>\n",
       "    </tr>\n",
       "    <tr>\n",
       "      <th>25%</th>\n",
       "      <td>47.250000</td>\n",
       "      <td>1368.250000</td>\n",
       "      <td>35.000000</td>\n",
       "      <td>0.000000</td>\n",
       "      <td>1.240000</td>\n",
       "      <td>29.972500</td>\n",
       "      <td>5.000000</td>\n",
       "    </tr>\n",
       "    <tr>\n",
       "      <th>50%</th>\n",
       "      <td>71.500000</td>\n",
       "      <td>1679.500000</td>\n",
       "      <td>51.600000</td>\n",
       "      <td>0.000000</td>\n",
       "      <td>2.395000</td>\n",
       "      <td>30.035000</td>\n",
       "      <td>6.000000</td>\n",
       "    </tr>\n",
       "    <tr>\n",
       "      <th>75%</th>\n",
       "      <td>93.750000</td>\n",
       "      <td>2147.250000</td>\n",
       "      <td>69.275000</td>\n",
       "      <td>5.000000</td>\n",
       "      <td>4.022500</td>\n",
       "      <td>30.097500</td>\n",
       "      <td>9.000000</td>\n",
       "    </tr>\n",
       "    <tr>\n",
       "      <th>max</th>\n",
       "      <td>116.000000</td>\n",
       "      <td>3412.000000</td>\n",
       "      <td>78.300000</td>\n",
       "      <td>25.000000</td>\n",
       "      <td>9.750000</td>\n",
       "      <td>30.210000</td>\n",
       "      <td>14.000000</td>\n",
       "    </tr>\n",
       "  </tbody>\n",
       "</table>\n",
       "</div>"
      ],
      "text/plain": [
       "            index        Local  MonthlyMeanTemperature  \\\n",
       "count   90.000000    90.000000               90.000000   \n",
       "mean    70.900000  1782.988889               50.938889   \n",
       "std     26.857113   615.412778               17.901671   \n",
       "min     25.000000   556.000000               14.900000   \n",
       "25%     47.250000  1368.250000               35.000000   \n",
       "50%     71.500000  1679.500000               51.600000   \n",
       "75%     93.750000  2147.250000               69.275000   \n",
       "max    116.000000  3412.000000               78.300000   \n",
       "\n",
       "       MonthlyDaysWithLT32Temp_Clean  MonthlyTotalLiquidPrecipitation_Clean  \\\n",
       "count                      90.000000                              90.000000   \n",
       "mean                        3.011111                               2.876222   \n",
       "std                         5.206941                               2.195644   \n",
       "min                         0.000000                               0.000000   \n",
       "25%                         0.000000                               1.240000   \n",
       "50%                         0.000000                               2.395000   \n",
       "75%                         5.000000                               4.022500   \n",
       "max                        25.000000                               9.750000   \n",
       "\n",
       "       MonthlySeaLevelPressure  Wind_Gust_Count  \n",
       "count                90.000000        90.000000  \n",
       "mean                 30.039889         6.877778  \n",
       "std                   0.079641         3.034734  \n",
       "min                  29.860000         0.000000  \n",
       "25%                  29.972500         5.000000  \n",
       "50%                  30.035000         6.000000  \n",
       "75%                  30.097500         9.000000  \n",
       "max                  30.210000        14.000000  "
      ]
     },
     "execution_count": 97,
     "metadata": {},
     "output_type": "execute_result"
    }
   ],
   "source": [
    "# Data factors and basic statistics\n",
    "\n",
    "model_df.describe()"
   ]
  },
  {
   "cell_type": "markdown",
   "id": "4a0dbb49",
   "metadata": {},
   "source": [
    "### EDA: Histogram of Model Statistics"
   ]
  },
  {
   "cell_type": "code",
   "execution_count": 98,
   "id": "b03ec5d6",
   "metadata": {},
   "outputs": [],
   "source": [
    "# Develop a function for histograms\n",
    "\n",
    "def HistogramStats(var, bins=20, title='', xl='', yl='Count'):\n",
    "    fig=plt.figure(figsize=(12,4))\n",
    "    plt.hist(var, bins=bins);\n",
    "    plt.title(title);\n",
    "    plt.xlabel(xl);\n",
    "    plt.ylabel(yl);\n",
    "    return(var.describe())"
   ]
  },
  {
   "cell_type": "code",
   "execution_count": 99,
   "id": "d6915290",
   "metadata": {},
   "outputs": [
    {
     "data": {
      "text/plain": [
       "count    90.000000\n",
       "mean     50.938889\n",
       "std      17.901671\n",
       "min      14.900000\n",
       "25%      35.000000\n",
       "50%      51.600000\n",
       "75%      69.275000\n",
       "max      78.300000\n",
       "Name: MonthlyMeanTemperature, dtype: float64"
      ]
     },
     "execution_count": 99,
     "metadata": {},
     "output_type": "execute_result"
    },
    {
     "data": {
      "image/png": "[encoded data removed]",
      "text/plain": [
       "<Figure size 864x288 with 1 Axes>"
      ]
     },
     "metadata": {
      "needs_background": "light"
     },
     "output_type": "display_data"
    }
   ],
   "source": [
    "HistogramStats(var=model_df['MonthlyMeanTemperature'], bins=10, \n",
    "               title='Monthly Avg Temperature', xl='Temperature (degrees F)')"
   ]
  },
  {
   "cell_type": "code",
   "execution_count": 100,
   "id": "028b3086",
   "metadata": {},
   "outputs": [
    {
     "data": {
      "text/plain": [
       "count    90.000000\n",
       "mean      3.011111\n",
       "std       5.206941\n",
       "min       0.000000\n",
       "25%       0.000000\n",
       "50%       0.000000\n",
       "75%       5.000000\n",
       "max      25.000000\n",
       "Name: MonthlyDaysWithLT32Temp_Clean, dtype: float64"
      ]
     },
     "execution_count": 100,
     "metadata": {},
     "output_type": "execute_result"
    },
    {
     "data": {
      "image/png": "[encoded data removed]",
      "text/plain": [
       "<Figure size 864x288 with 1 Axes>"
      ]
     },
     "metadata": {
      "needs_background": "light"
     },
     "output_type": "display_data"
    }
   ],
   "source": [
    "HistogramStats(var=model_df['MonthlyDaysWithLT32Temp_Clean'], bins=20, \n",
    "               title='Days Below 32 per Month', xl='Days per Month')"
   ]
  },
  {
   "cell_type": "code",
   "execution_count": 101,
   "id": "effaac0c",
   "metadata": {},
   "outputs": [
    {
     "data": {
      "text/html": [
       "<div>\n",
       "<style scoped>\n",
       "    .dataframe tbody tr th:only-of-type {\n",
       "        vertical-align: middle;\n",
       "    }\n",
       "\n",
       "    .dataframe tbody tr th {\n",
       "        vertical-align: top;\n",
       "    }\n",
       "\n",
       "    .dataframe thead th {\n",
       "        text-align: right;\n",
       "    }\n",
       "</style>\n",
       "<table border=\"1\" class=\"dataframe\">\n",
       "  <thead>\n",
       "    <tr style=\"text-align: right;\">\n",
       "      <th></th>\n",
       "      <th>Date_Year_Month</th>\n",
       "      <th>MonthlyDaysWithLT32Temp_Clean</th>\n",
       "      <th>MonthlyMeanTemperature</th>\n",
       "    </tr>\n",
       "  </thead>\n",
       "  <tbody>\n",
       "    <tr>\n",
       "      <th>12</th>\n",
       "      <td>(2015, 2)</td>\n",
       "      <td>25.0</td>\n",
       "      <td>14.9</td>\n",
       "    </tr>\n",
       "    <tr>\n",
       "      <th>57</th>\n",
       "      <td>(2019, 1)</td>\n",
       "      <td>16.0</td>\n",
       "      <td>22.3</td>\n",
       "    </tr>\n",
       "    <tr>\n",
       "      <th>80</th>\n",
       "      <td>(2021, 2)</td>\n",
       "      <td>16.0</td>\n",
       "      <td>19.5</td>\n",
       "    </tr>\n",
       "    <tr>\n",
       "      <th>23</th>\n",
       "      <td>(2016, 1)</td>\n",
       "      <td>15.0</td>\n",
       "      <td>24.8</td>\n",
       "    </tr>\n",
       "    <tr>\n",
       "      <th>45</th>\n",
       "      <td>(2018, 1)</td>\n",
       "      <td>15.0</td>\n",
       "      <td>25.1</td>\n",
       "    </tr>\n",
       "    <tr>\n",
       "      <th>11</th>\n",
       "      <td>(2015, 1)</td>\n",
       "      <td>14.0</td>\n",
       "      <td>22.5</td>\n",
       "    </tr>\n",
       "    <tr>\n",
       "      <th>32</th>\n",
       "      <td>(2016, 12)</td>\n",
       "      <td>14.0</td>\n",
       "      <td>25.5</td>\n",
       "    </tr>\n",
       "    <tr>\n",
       "      <th>9</th>\n",
       "      <td>(2014, 11)</td>\n",
       "      <td>12.0</td>\n",
       "      <td>34.2</td>\n",
       "    </tr>\n",
       "    <tr>\n",
       "      <th>44</th>\n",
       "      <td>(2017, 12)</td>\n",
       "      <td>12.0</td>\n",
       "      <td>27.3</td>\n",
       "    </tr>\n",
       "    <tr>\n",
       "      <th>58</th>\n",
       "      <td>(2019, 2)</td>\n",
       "      <td>12.0</td>\n",
       "      <td>26.5</td>\n",
       "    </tr>\n",
       "    <tr>\n",
       "      <th>33</th>\n",
       "      <td>(2017, 1)</td>\n",
       "      <td>11.0</td>\n",
       "      <td>28.3</td>\n",
       "    </tr>\n",
       "  </tbody>\n",
       "</table>\n",
       "</div>"
      ],
      "text/plain": [
       "   Date_Year_Month  MonthlyDaysWithLT32Temp_Clean  MonthlyMeanTemperature\n",
       "12       (2015, 2)                           25.0                    14.9\n",
       "57       (2019, 1)                           16.0                    22.3\n",
       "80       (2021, 2)                           16.0                    19.5\n",
       "23       (2016, 1)                           15.0                    24.8\n",
       "45       (2018, 1)                           15.0                    25.1\n",
       "11       (2015, 1)                           14.0                    22.5\n",
       "32      (2016, 12)                           14.0                    25.5\n",
       "9       (2014, 11)                           12.0                    34.2\n",
       "44      (2017, 12)                           12.0                    27.3\n",
       "58       (2019, 2)                           12.0                    26.5\n",
       "33       (2017, 1)                           11.0                    28.3"
      ]
     },
     "execution_count": 101,
     "metadata": {},
     "output_type": "execute_result"
    }
   ],
   "source": [
    "# Chicago weather was one of the coldest temperatures on record as it was impacted by the polar vortex event.\n",
    "# https://en.wikipedia.org/wiki/February_2015_North_American_cold_wave\n",
    "# Local weather validation: https://www.nbcchicago.com/news/local/record-cold-february-2015/1993156/#:~:text=Published%20March%206%2C%202015,a%20cold%20last%20three%20months.\n",
    "\n",
    "model_df.loc[model_df['MonthlyDaysWithLT32Temp_Clean']>10, \n",
    "            ['Date_Year_Month', 'MonthlyDaysWithLT32Temp_Clean', 'MonthlyMeanTemperature']]\\\n",
    ".sort_values(by=['MonthlyDaysWithLT32Temp_Clean'], ascending=False)"
   ]
  },
  {
   "cell_type": "code",
   "execution_count": 102,
   "id": "b6b532e7",
   "metadata": {},
   "outputs": [
    {
     "data": {
      "text/plain": [
       "count    90.000000\n",
       "mean      2.876222\n",
       "std       2.195644\n",
       "min       0.000000\n",
       "25%       1.240000\n",
       "50%       2.395000\n",
       "75%       4.022500\n",
       "max       9.750000\n",
       "Name: MonthlyTotalLiquidPrecipitation_Clean, dtype: float64"
      ]
     },
     "execution_count": 102,
     "metadata": {},
     "output_type": "execute_result"
    },
    {
     "data": {
      "image/png": "[encoded data removed]",
      "text/plain": [
       "<Figure size 864x288 with 1 Axes>"
      ]
     },
     "metadata": {
      "needs_background": "light"
     },
     "output_type": "display_data"
    }
   ],
   "source": [
    "HistogramStats(var=model_df['MonthlyTotalLiquidPrecipitation_Clean'], \n",
    "          title='Monthly Precipitation Totals', xl='Precipitation (inches)')"
   ]
  },
  {
   "cell_type": "code",
   "execution_count": 103,
   "id": "6156a12c",
   "metadata": {},
   "outputs": [
    {
     "data": {
      "text/plain": [
       "count    90.000000\n",
       "mean     30.039889\n",
       "std       0.079641\n",
       "min      29.860000\n",
       "25%      29.972500\n",
       "50%      30.035000\n",
       "75%      30.097500\n",
       "max      30.210000\n",
       "Name: MonthlySeaLevelPressure, dtype: float64"
      ]
     },
     "execution_count": 103,
     "metadata": {},
     "output_type": "execute_result"
    },
    {
     "data": {
      "image/png": "[encoded data removed]",
      "text/plain": [
       "<Figure size 864x288 with 1 Axes>"
      ]
     },
     "metadata": {
      "needs_background": "light"
     },
     "output_type": "display_data"
    }
   ],
   "source": [
    "HistogramStats(var=model_df['MonthlySeaLevelPressure'], bins=10,\n",
    "          title='Monthly Sea Level Pressure', xl='Sea Level Pressure (inches of mercury)')"
   ]
  },
  {
   "cell_type": "code",
   "execution_count": 104,
   "id": "5f19b53a",
   "metadata": {},
   "outputs": [
    {
     "data": {
      "text/plain": [
       "count    90.000000\n",
       "mean      6.877778\n",
       "std       3.034734\n",
       "min       0.000000\n",
       "25%       5.000000\n",
       "50%       6.000000\n",
       "75%       9.000000\n",
       "max      14.000000\n",
       "Name: Wind_Gust_Count, dtype: float64"
      ]
     },
     "execution_count": 104,
     "metadata": {},
     "output_type": "execute_result"
    },
    {
     "data": {
      "image/png": "[encoded data removed]",
      "text/plain": [
       "<Figure size 864x288 with 1 Axes>"
      ]
     },
     "metadata": {
      "needs_background": "light"
     },
     "output_type": "display_data"
    }
   ],
   "source": [
    "HistogramStats(var=model_df['Wind_Gust_Count'], bins=10, title='Days with Winds Exceeding 30mph', xl='Days per Month')"
   ]
  },
  {
   "cell_type": "markdown",
   "id": "fe84b173",
   "metadata": {},
   "source": [
    "### EDA: Analysis of Daily Average Temperature (combined_df)"
   ]
  },
  {
   "cell_type": "code",
   "execution_count": 105,
   "id": "0502ec7d",
   "metadata": {},
   "outputs": [],
   "source": [
    "# Filter data set on daily info\n",
    "combined_df_daily = combined_df.loc[airport_df['REPORT_TYPE_Clean']=='SOD']"
   ]
  },
  {
   "cell_type": "code",
   "execution_count": 106,
   "id": "c2577d51",
   "metadata": {},
   "outputs": [
    {
     "data": {
      "image/png": "[encoded data removed]",
      "text/plain": [
       "<Figure size 864x288 with 1 Axes>"
      ]
     },
     "metadata": {
      "needs_background": "light"
     },
     "output_type": "display_data"
    }
   ],
   "source": [
    "fig=plt.figure(figsize=(12,4))\n",
    "plt.hist(combined_df_daily['DailyAverageTemperature_Clean'], bins=20);\n",
    "plt.title(\"Distribution of Daily Temperatures\");\n",
    "plt.xlabel(\"Temperature (degrees F)\");\n",
    "plt.ylabel(\"Frequency\");"
   ]
  },
  {
   "cell_type": "code",
   "execution_count": 107,
   "id": "9544e38d",
   "metadata": {},
   "outputs": [
    {
     "data": {
      "image/png": "[encoded data removed]",
      "text/plain": [
       "<Figure size 864x288 with 1 Axes>"
      ]
     },
     "metadata": {
      "needs_background": "light"
     },
     "output_type": "display_data"
    }
   ],
   "source": [
    "temp_frequency = combined_df_daily['DailyAverageTemperature_Clean'].value_counts(normalize=True)\n",
    "temp_frequency = temp_frequency.sort_index()\n",
    "\n",
    "fig=plt.figure(figsize=(12,4))\n",
    "plt.plot(temp_frequency);\n",
    "plt.title(\"Frequency of Daily Temperatures\");\n",
    "plt.xlabel(\"Temperature (degrees F)\");\n",
    "plt.ylabel(\"Frequency\");"
   ]
  },
  {
   "cell_type": "code",
   "execution_count": 108,
   "id": "0cb5dc3d",
   "metadata": {},
   "outputs": [
    {
     "data": {
      "text/html": [
       "<div>\n",
       "<style scoped>\n",
       "    .dataframe tbody tr th:only-of-type {\n",
       "        vertical-align: middle;\n",
       "    }\n",
       "\n",
       "    .dataframe tbody tr th {\n",
       "        vertical-align: top;\n",
       "    }\n",
       "\n",
       "    .dataframe thead th {\n",
       "        text-align: right;\n",
       "    }\n",
       "</style>\n",
       "<table border=\"1\" class=\"dataframe\">\n",
       "  <thead>\n",
       "    <tr style=\"text-align: right;\">\n",
       "      <th></th>\n",
       "      <th>Date_Month</th>\n",
       "      <th>DailyAverageTemperature_Clean</th>\n",
       "      <th>TempFrequency</th>\n",
       "      <th>Frequency_Month</th>\n",
       "      <th>CUM_Frequency_Month</th>\n",
       "    </tr>\n",
       "  </thead>\n",
       "  <tbody>\n",
       "    <tr>\n",
       "      <th>454</th>\n",
       "      <td>1</td>\n",
       "      <td>-15.0</td>\n",
       "      <td>1</td>\n",
       "      <td>0.003247</td>\n",
       "      <td>0.003247</td>\n",
       "    </tr>\n",
       "    <tr>\n",
       "      <th>439</th>\n",
       "      <td>1</td>\n",
       "      <td>-9.0</td>\n",
       "      <td>2</td>\n",
       "      <td>0.006494</td>\n",
       "      <td>0.009740</td>\n",
       "    </tr>\n",
       "    <tr>\n",
       "      <th>381</th>\n",
       "      <td>1</td>\n",
       "      <td>-4.0</td>\n",
       "      <td>2</td>\n",
       "      <td>0.006494</td>\n",
       "      <td>0.016234</td>\n",
       "    </tr>\n",
       "    <tr>\n",
       "      <th>486</th>\n",
       "      <td>1</td>\n",
       "      <td>-2.0</td>\n",
       "      <td>1</td>\n",
       "      <td>0.003247</td>\n",
       "      <td>0.019481</td>\n",
       "    </tr>\n",
       "    <tr>\n",
       "      <th>480</th>\n",
       "      <td>2</td>\n",
       "      <td>-2.0</td>\n",
       "      <td>1</td>\n",
       "      <td>0.003559</td>\n",
       "      <td>0.003559</td>\n",
       "    </tr>\n",
       "  </tbody>\n",
       "</table>\n",
       "</div>"
      ],
      "text/plain": [
       "     Date_Month  DailyAverageTemperature_Clean  TempFrequency  \\\n",
       "454           1                          -15.0              1   \n",
       "439           1                           -9.0              2   \n",
       "381           1                           -4.0              2   \n",
       "486           1                           -2.0              1   \n",
       "480           2                           -2.0              1   \n",
       "\n",
       "     Frequency_Month  CUM_Frequency_Month  \n",
       "454         0.003247             0.003247  \n",
       "439         0.006494             0.009740  \n",
       "381         0.006494             0.016234  \n",
       "486         0.003247             0.019481  \n",
       "480         0.003559             0.003559  "
      ]
     },
     "execution_count": 108,
     "metadata": {},
     "output_type": "execute_result"
    }
   ],
   "source": [
    "# Group data by month of year so we can understand temperature ranges by month.\n",
    "\n",
    "temp_frequency_bymonth = combined_df_daily[['Date_Month','DailyAverageTemperature_Clean']]\\\n",
    "                             .value_counts()\\\n",
    "                             .reset_index()\\\n",
    "                             .sort_values('DailyAverageTemperature_Clean',ascending=True)\\\n",
    "                             .rename(columns={0: 'TempFrequency'})\n",
    "\n",
    "# Add frequency for the temperatures by month\n",
    "temp_frequency_bymonth['Frequency_Month'] = temp_frequency_bymonth.groupby('Date_Month')['TempFrequency'].transform(lambda x: (x / x.sum()))\n",
    "\n",
    "# Add cumulative sum of temperatures by month\n",
    "temp_frequency_bymonth['CUM_Frequency_Month'] = temp_frequency_bymonth.groupby('Date_Month')['Frequency_Month'].transform(lambda x: (np.cumsum(x)))\n",
    "\n",
    "temp_frequency_bymonth.head()"
   ]
  },
  {
   "cell_type": "code",
   "execution_count": 109,
   "id": "d41e75ae",
   "metadata": {},
   "outputs": [
    {
     "data": {
      "image/png": "[encoded data removed]",
      "text/plain": [
       "<Figure size 1008x360 with 1 Axes>"
      ]
     },
     "metadata": {
      "needs_background": "light"
     },
     "output_type": "display_data"
    }
   ],
   "source": [
    "# PDF of temperatures, separated by month\n",
    "\n",
    "fig=plt.figure(figsize=(14,5))\n",
    "colors = sns.color_palette(\"Paired\", 12)\n",
    "\n",
    "sns.lineplot(x='DailyAverageTemperature_Clean', y='Frequency_Month', data=temp_frequency_bymonth, \n",
    "             hue='Date_Month', palette=colors);\n",
    "plt.title('PMF Plot Showing Temperature Frequencies by Month');"
   ]
  },
  {
   "cell_type": "code",
   "execution_count": 110,
   "id": "d238540d",
   "metadata": {},
   "outputs": [
    {
     "data": {
      "image/png": "[encoded data removed]",
      "text/plain": [
       "<Figure size 1008x360 with 1 Axes>"
      ]
     },
     "metadata": {
      "needs_background": "light"
     },
     "output_type": "display_data"
    }
   ],
   "source": [
    "# Graph the CDF of the daily temperature by month. Months demonstrate different ranges of values.\n",
    "\n",
    "fig=plt.figure(figsize=(14,5))\n",
    "\n",
    "sns.lineplot(x='DailyAverageTemperature_Clean', y='CUM_Frequency_Month', data=temp_frequency_bymonth, \n",
    "             hue='Date_Month',palette=colors);\n",
    "plt.title('CDF Plots for each Month of Year');"
   ]
  },
  {
   "cell_type": "code",
   "execution_count": 111,
   "id": "7d723cbd",
   "metadata": {},
   "outputs": [
    {
     "data": {
      "text/html": [
       "<div>\n",
       "<style scoped>\n",
       "    .dataframe tbody tr th:only-of-type {\n",
       "        vertical-align: middle;\n",
       "    }\n",
       "\n",
       "    .dataframe tbody tr th {\n",
       "        vertical-align: top;\n",
       "    }\n",
       "\n",
       "    .dataframe thead th {\n",
       "        text-align: right;\n",
       "    }\n",
       "</style>\n",
       "<table border=\"1\" class=\"dataframe\">\n",
       "  <thead>\n",
       "    <tr style=\"text-align: right;\">\n",
       "      <th></th>\n",
       "      <th>count</th>\n",
       "      <th>mean</th>\n",
       "      <th>std</th>\n",
       "      <th>min</th>\n",
       "      <th>25%</th>\n",
       "      <th>50%</th>\n",
       "      <th>75%</th>\n",
       "      <th>max</th>\n",
       "    </tr>\n",
       "    <tr>\n",
       "      <th>Date_Month</th>\n",
       "      <th></th>\n",
       "      <th></th>\n",
       "      <th></th>\n",
       "      <th></th>\n",
       "      <th></th>\n",
       "      <th></th>\n",
       "      <th></th>\n",
       "      <th></th>\n",
       "    </tr>\n",
       "  </thead>\n",
       "  <tbody>\n",
       "    <tr>\n",
       "      <th>1</th>\n",
       "      <td>308.0</td>\n",
       "      <td>25.922078</td>\n",
       "      <td>11.678948</td>\n",
       "      <td>-15.0</td>\n",
       "      <td>19.75</td>\n",
       "      <td>28.0</td>\n",
       "      <td>34.0</td>\n",
       "      <td>51.0</td>\n",
       "    </tr>\n",
       "    <tr>\n",
       "      <th>2</th>\n",
       "      <td>281.0</td>\n",
       "      <td>26.387900</td>\n",
       "      <td>11.677928</td>\n",
       "      <td>-2.0</td>\n",
       "      <td>17.00</td>\n",
       "      <td>28.0</td>\n",
       "      <td>34.0</td>\n",
       "      <td>57.0</td>\n",
       "    </tr>\n",
       "    <tr>\n",
       "      <th>3</th>\n",
       "      <td>310.0</td>\n",
       "      <td>38.935484</td>\n",
       "      <td>11.470055</td>\n",
       "      <td>6.0</td>\n",
       "      <td>31.00</td>\n",
       "      <td>39.0</td>\n",
       "      <td>45.0</td>\n",
       "      <td>76.0</td>\n",
       "    </tr>\n",
       "    <tr>\n",
       "      <th>4</th>\n",
       "      <td>300.0</td>\n",
       "      <td>48.156667</td>\n",
       "      <td>8.574216</td>\n",
       "      <td>29.0</td>\n",
       "      <td>43.00</td>\n",
       "      <td>48.0</td>\n",
       "      <td>53.0</td>\n",
       "      <td>74.0</td>\n",
       "    </tr>\n",
       "    <tr>\n",
       "      <th>5</th>\n",
       "      <td>310.0</td>\n",
       "      <td>60.274194</td>\n",
       "      <td>9.808472</td>\n",
       "      <td>39.0</td>\n",
       "      <td>52.00</td>\n",
       "      <td>60.0</td>\n",
       "      <td>68.0</td>\n",
       "      <td>84.0</td>\n",
       "    </tr>\n",
       "    <tr>\n",
       "      <th>6</th>\n",
       "      <td>300.0</td>\n",
       "      <td>70.490000</td>\n",
       "      <td>7.083111</td>\n",
       "      <td>51.0</td>\n",
       "      <td>65.00</td>\n",
       "      <td>70.5</td>\n",
       "      <td>76.0</td>\n",
       "      <td>88.0</td>\n",
       "    </tr>\n",
       "    <tr>\n",
       "      <th>7</th>\n",
       "      <td>310.0</td>\n",
       "      <td>75.193548</td>\n",
       "      <td>6.154533</td>\n",
       "      <td>58.0</td>\n",
       "      <td>71.00</td>\n",
       "      <td>75.0</td>\n",
       "      <td>79.0</td>\n",
       "      <td>93.0</td>\n",
       "    </tr>\n",
       "    <tr>\n",
       "      <th>8</th>\n",
       "      <td>310.0</td>\n",
       "      <td>73.958065</td>\n",
       "      <td>5.225174</td>\n",
       "      <td>60.0</td>\n",
       "      <td>70.00</td>\n",
       "      <td>74.0</td>\n",
       "      <td>78.0</td>\n",
       "      <td>87.0</td>\n",
       "    </tr>\n",
       "    <tr>\n",
       "      <th>9</th>\n",
       "      <td>299.0</td>\n",
       "      <td>67.454849</td>\n",
       "      <td>7.603898</td>\n",
       "      <td>50.0</td>\n",
       "      <td>62.00</td>\n",
       "      <td>67.0</td>\n",
       "      <td>73.0</td>\n",
       "      <td>87.0</td>\n",
       "    </tr>\n",
       "    <tr>\n",
       "      <th>10</th>\n",
       "      <td>310.0</td>\n",
       "      <td>54.225806</td>\n",
       "      <td>9.196206</td>\n",
       "      <td>30.0</td>\n",
       "      <td>47.00</td>\n",
       "      <td>54.0</td>\n",
       "      <td>61.0</td>\n",
       "      <td>78.0</td>\n",
       "    </tr>\n",
       "    <tr>\n",
       "      <th>11</th>\n",
       "      <td>300.0</td>\n",
       "      <td>40.143333</td>\n",
       "      <td>10.008163</td>\n",
       "      <td>15.0</td>\n",
       "      <td>34.00</td>\n",
       "      <td>40.0</td>\n",
       "      <td>46.0</td>\n",
       "      <td>69.0</td>\n",
       "    </tr>\n",
       "    <tr>\n",
       "      <th>12</th>\n",
       "      <td>285.0</td>\n",
       "      <td>31.870175</td>\n",
       "      <td>10.343773</td>\n",
       "      <td>2.0</td>\n",
       "      <td>26.00</td>\n",
       "      <td>33.0</td>\n",
       "      <td>38.0</td>\n",
       "      <td>58.0</td>\n",
       "    </tr>\n",
       "  </tbody>\n",
       "</table>\n",
       "</div>"
      ],
      "text/plain": [
       "            count       mean        std   min    25%   50%   75%   max\n",
       "Date_Month                                                            \n",
       "1           308.0  25.922078  11.678948 -15.0  19.75  28.0  34.0  51.0\n",
       "2           281.0  26.387900  11.677928  -2.0  17.00  28.0  34.0  57.0\n",
       "3           310.0  38.935484  11.470055   6.0  31.00  39.0  45.0  76.0\n",
       "4           300.0  48.156667   8.574216  29.0  43.00  48.0  53.0  74.0\n",
       "5           310.0  60.274194   9.808472  39.0  52.00  60.0  68.0  84.0\n",
       "6           300.0  70.490000   7.083111  51.0  65.00  70.5  76.0  88.0\n",
       "7           310.0  75.193548   6.154533  58.0  71.00  75.0  79.0  93.0\n",
       "8           310.0  73.958065   5.225174  60.0  70.00  74.0  78.0  87.0\n",
       "9           299.0  67.454849   7.603898  50.0  62.00  67.0  73.0  87.0\n",
       "10          310.0  54.225806   9.196206  30.0  47.00  54.0  61.0  78.0\n",
       "11          300.0  40.143333  10.008163  15.0  34.00  40.0  46.0  69.0\n",
       "12          285.0  31.870175  10.343773   2.0  26.00  33.0  38.0  58.0"
      ]
     },
     "execution_count": 111,
     "metadata": {},
     "output_type": "execute_result"
    }
   ],
   "source": [
    "# Determine the central tendencies and variance statistics of temperature by month.\n",
    "\n",
    "combined_df.groupby('Date_Month')['DailyAverageTemperature_Clean'].describe()"
   ]
  },
  {
   "cell_type": "markdown",
   "id": "d2866fe4",
   "metadata": {},
   "source": [
    "### EDA: Separating Temperature for Winter Months"
   ]
  },
  {
   "cell_type": "code",
   "execution_count": 112,
   "id": "0b6ab357",
   "metadata": {},
   "outputs": [],
   "source": [
    "winter_df = model_df.loc[model_df['Season']=='Winter']\n",
    "notwinter_df = model_df.loc[model_df['Season']!='Winter']"
   ]
  },
  {
   "cell_type": "code",
   "execution_count": 113,
   "id": "c14166bd",
   "metadata": {},
   "outputs": [
    {
     "data": {
      "text/html": [
       "<div>\n",
       "<style scoped>\n",
       "    .dataframe tbody tr th:only-of-type {\n",
       "        vertical-align: middle;\n",
       "    }\n",
       "\n",
       "    .dataframe tbody tr th {\n",
       "        vertical-align: top;\n",
       "    }\n",
       "\n",
       "    .dataframe thead th {\n",
       "        text-align: right;\n",
       "    }\n",
       "</style>\n",
       "<table border=\"1\" class=\"dataframe\">\n",
       "  <thead>\n",
       "    <tr style=\"text-align: right;\">\n",
       "      <th></th>\n",
       "      <th>Season</th>\n",
       "      <th>MonthlyMeanTemperature</th>\n",
       "      <th>TempFrequency</th>\n",
       "      <th>Frequency_Month</th>\n",
       "      <th>CUM_Frequency_Month</th>\n",
       "    </tr>\n",
       "  </thead>\n",
       "  <tbody>\n",
       "    <tr>\n",
       "      <th>17</th>\n",
       "      <td>Winter</td>\n",
       "      <td>14.9</td>\n",
       "      <td>1</td>\n",
       "      <td>0.047619</td>\n",
       "      <td>0.047619</td>\n",
       "    </tr>\n",
       "    <tr>\n",
       "      <th>42</th>\n",
       "      <td>Winter</td>\n",
       "      <td>17.4</td>\n",
       "      <td>1</td>\n",
       "      <td>0.047619</td>\n",
       "      <td>0.095238</td>\n",
       "    </tr>\n",
       "    <tr>\n",
       "      <th>24</th>\n",
       "      <td>Winter</td>\n",
       "      <td>19.5</td>\n",
       "      <td>1</td>\n",
       "      <td>0.047619</td>\n",
       "      <td>0.142857</td>\n",
       "    </tr>\n",
       "    <tr>\n",
       "      <th>41</th>\n",
       "      <td>Winter</td>\n",
       "      <td>22.3</td>\n",
       "      <td>1</td>\n",
       "      <td>0.047619</td>\n",
       "      <td>0.190476</td>\n",
       "    </tr>\n",
       "    <tr>\n",
       "      <th>40</th>\n",
       "      <td>Winter</td>\n",
       "      <td>22.5</td>\n",
       "      <td>1</td>\n",
       "      <td>0.047619</td>\n",
       "      <td>0.238095</td>\n",
       "    </tr>\n",
       "  </tbody>\n",
       "</table>\n",
       "</div>"
      ],
      "text/plain": [
       "    Season  MonthlyMeanTemperature  TempFrequency  Frequency_Month  \\\n",
       "17  Winter                    14.9              1         0.047619   \n",
       "42  Winter                    17.4              1         0.047619   \n",
       "24  Winter                    19.5              1         0.047619   \n",
       "41  Winter                    22.3              1         0.047619   \n",
       "40  Winter                    22.5              1         0.047619   \n",
       "\n",
       "    CUM_Frequency_Month  \n",
       "17             0.047619  \n",
       "42             0.095238  \n",
       "24             0.142857  \n",
       "41             0.190476  \n",
       "40             0.238095  "
      ]
     },
     "execution_count": 113,
     "metadata": {},
     "output_type": "execute_result"
    }
   ],
   "source": [
    "# Group data by season so we can understand the monthly temperatures for winter and other months.\n",
    "\n",
    "temp_frequency_season = model_df[['Season','MonthlyMeanTemperature']]\\\n",
    "                             .value_counts()\\\n",
    "                             .reset_index()\\\n",
    "                             .sort_values('MonthlyMeanTemperature',ascending=True)\\\n",
    "                             .rename(columns={0: 'TempFrequency'})\n",
    "\n",
    "# Add frequency for the temperatures by month\n",
    "temp_frequency_season['Frequency_Month'] = temp_frequency_season.groupby('Season')['TempFrequency'].transform(lambda x: (x / x.sum()))\n",
    "\n",
    "# Add cumulative sum of temperatures by month\n",
    "temp_frequency_season['CUM_Frequency_Month'] = temp_frequency_season.groupby('Season')['Frequency_Month'].transform(lambda x: (np.cumsum(x)))\n",
    "\n",
    "temp_frequency_season.head()"
   ]
  },
  {
   "cell_type": "code",
   "execution_count": 114,
   "id": "86d2ce0d",
   "metadata": {},
   "outputs": [
    {
     "data": {
      "text/plain": [
       "<Figure size 1008x360 with 0 Axes>"
      ]
     },
     "metadata": {},
     "output_type": "display_data"
    },
    {
     "data": {
      "image/png": "[encoded data removed]",
      "text/plain": [
       "<Figure size 809.5x360 with 2 Axes>"
      ]
     },
     "metadata": {
      "needs_background": "light"
     },
     "output_type": "display_data"
    }
   ],
   "source": [
    "# Graph the PMFs for winter and other seasons\n",
    "\n",
    "plt.figure(figsize=(14,5))\n",
    "\n",
    "sns.displot(data=temp_frequency_season, x='MonthlyMeanTemperature', col=\"Season\", hue='Season', stat=\"probability\");\n",
    "plt.title('Probability Density Function (PDF) of Temperatures, Split between Winter and Non-Winter Months\\n');"
   ]
  },
  {
   "cell_type": "code",
   "execution_count": 115,
   "id": "72e25ff3",
   "metadata": {},
   "outputs": [
    {
     "data": {
      "image/png": "[encoded data removed]",
      "text/plain": [
       "<Figure size 1008x360 with 1 Axes>"
      ]
     },
     "metadata": {
      "needs_background": "light"
     },
     "output_type": "display_data"
    }
   ],
   "source": [
    "# Graph the CDFs for winter and other seasons\n",
    "\n",
    "plt.figure(figsize=(14,5))\n",
    "\n",
    "sns.lineplot(data=temp_frequency_season, x='MonthlyMeanTemperature', y=\"CUM_Frequency_Month\", hue=\"Season\");\n",
    "plt.title('CDF of Temperatures, Split between Winter and Non-Winter Months');"
   ]
  },
  {
   "cell_type": "code",
   "execution_count": 116,
   "id": "9cfed59e",
   "metadata": {},
   "outputs": [
    {
     "name": "stdout",
     "output_type": "stream",
     "text": [
      "Comparison of Temperatures During Winter Season (Nov-Dec) and Non-Winter Months\n",
      "\n",
      "       Winter Season  Not Winter Season\n",
      "count      21.000000          69.000000\n",
      "mean       27.742857          57.998551\n",
      "std         6.226200          13.831151\n",
      "min        14.900000          31.100000\n",
      "25%        24.800000          46.800000\n",
      "50%        28.300000          59.500000\n",
      "75%        32.000000          70.600000\n",
      "max        38.900000          78.300000\n"
     ]
    }
   ],
   "source": [
    "# Statistics of winter and non-winter periods.\n",
    "\n",
    "winter_temp = winter_df['MonthlyMeanTemperature'].dropna()\n",
    "notwinter_temp = notwinter_df['MonthlyMeanTemperature'].dropna()\n",
    "\n",
    "table1 = pd.DataFrame(data={'Winter Season': winter_temp.describe(), 'Not Winter Season': notwinter_temp.describe()})\n",
    "print(f\"Comparison of Temperatures During Winter Season (Nov-Dec) and Non-Winter Months\\n\")\n",
    "print(table1)"
   ]
  },
  {
   "cell_type": "code",
   "execution_count": 117,
   "id": "0ccca05d",
   "metadata": {},
   "outputs": [
    {
     "data": {
      "text/html": [
       "<div>\n",
       "<style scoped>\n",
       "    .dataframe tbody tr th:only-of-type {\n",
       "        vertical-align: middle;\n",
       "    }\n",
       "\n",
       "    .dataframe tbody tr th {\n",
       "        vertical-align: top;\n",
       "    }\n",
       "\n",
       "    .dataframe thead th {\n",
       "        text-align: right;\n",
       "    }\n",
       "</style>\n",
       "<table border=\"1\" class=\"dataframe\">\n",
       "  <thead>\n",
       "    <tr style=\"text-align: right;\">\n",
       "      <th></th>\n",
       "      <th>Season</th>\n",
       "      <th>Local</th>\n",
       "      <th>TempFrequency</th>\n",
       "      <th>Frequency_Month</th>\n",
       "      <th>CUM_Frequency_Month</th>\n",
       "    </tr>\n",
       "  </thead>\n",
       "  <tbody>\n",
       "    <tr>\n",
       "      <th>24</th>\n",
       "      <td>Winter</td>\n",
       "      <td>556.0</td>\n",
       "      <td>1</td>\n",
       "      <td>0.047619</td>\n",
       "      <td>0.047619</td>\n",
       "    </tr>\n",
       "    <tr>\n",
       "      <th>43</th>\n",
       "      <td>Winter</td>\n",
       "      <td>636.0</td>\n",
       "      <td>1</td>\n",
       "      <td>0.047619</td>\n",
       "      <td>0.095238</td>\n",
       "    </tr>\n",
       "    <tr>\n",
       "      <th>0</th>\n",
       "      <td>Not Winter</td>\n",
       "      <td>786.0</td>\n",
       "      <td>1</td>\n",
       "      <td>0.014493</td>\n",
       "      <td>0.014493</td>\n",
       "    </tr>\n",
       "    <tr>\n",
       "      <th>42</th>\n",
       "      <td>Winter</td>\n",
       "      <td>822.0</td>\n",
       "      <td>1</td>\n",
       "      <td>0.047619</td>\n",
       "      <td>0.142857</td>\n",
       "    </tr>\n",
       "    <tr>\n",
       "      <th>41</th>\n",
       "      <td>Winter</td>\n",
       "      <td>900.0</td>\n",
       "      <td>1</td>\n",
       "      <td>0.047619</td>\n",
       "      <td>0.190476</td>\n",
       "    </tr>\n",
       "  </tbody>\n",
       "</table>\n",
       "</div>"
      ],
      "text/plain": [
       "        Season  Local  TempFrequency  Frequency_Month  CUM_Frequency_Month\n",
       "24      Winter  556.0              1         0.047619             0.047619\n",
       "43      Winter  636.0              1         0.047619             0.095238\n",
       "0   Not Winter  786.0              1         0.014493             0.014493\n",
       "42      Winter  822.0              1         0.047619             0.142857\n",
       "41      Winter  900.0              1         0.047619             0.190476"
      ]
     },
     "execution_count": 117,
     "metadata": {},
     "output_type": "execute_result"
    }
   ],
   "source": [
    "# Group data by season so we can understand the flights for winter and other months.\n",
    "\n",
    "temp_flights = model_df[['Season','Local']]\\\n",
    "                             .value_counts()\\\n",
    "                             .reset_index()\\\n",
    "                             .sort_values('Local',ascending=True)\\\n",
    "                             .rename(columns={0: 'TempFrequency'})\n",
    "\n",
    "# Add frequency for the temperatures by month\n",
    "temp_flights['Frequency_Month'] = temp_flights.groupby('Season')['TempFrequency'].transform(lambda x: (x / x.sum()))\n",
    "\n",
    "# Add cumulative sum of temperatures by month\n",
    "temp_flights['CUM_Frequency_Month'] = temp_flights.groupby('Season')['Frequency_Month'].transform(lambda x: (np.cumsum(x)))\n",
    "\n",
    "temp_flights.head()"
   ]
  },
  {
   "cell_type": "code",
   "execution_count": 118,
   "id": "7a36b2b4",
   "metadata": {},
   "outputs": [
    {
     "data": {
      "text/plain": [
       "<Figure size 1008x360 with 0 Axes>"
      ]
     },
     "metadata": {},
     "output_type": "display_data"
    },
    {
     "data": {
      "image/png": "[encoded data removed]",
      "text/plain": [
       "<Figure size 809.5x360 with 2 Axes>"
      ]
     },
     "metadata": {
      "needs_background": "light"
     },
     "output_type": "display_data"
    }
   ],
   "source": [
    "# Graph the CDFs for winter and other seasons\n",
    "\n",
    "plt.figure(figsize=(14,5))\n",
    "\n",
    "sns.displot(data=temp_flights, x='Local', col=\"Season\", hue='Season', stat=\"probability\");\n",
    "plt.title('PMF of Flights, Split between Winter and Non-Winter Months\\n');"
   ]
  },
  {
   "cell_type": "markdown",
   "id": "56458b95",
   "metadata": {},
   "source": [
    "### EDA: PMF of a Variable (Precipitation Amount)"
   ]
  },
  {
   "cell_type": "code",
   "execution_count": 119,
   "id": "fe8d01f1",
   "metadata": {},
   "outputs": [
    {
     "data": {
      "text/html": [
       "<div>\n",
       "<style scoped>\n",
       "    .dataframe tbody tr th:only-of-type {\n",
       "        vertical-align: middle;\n",
       "    }\n",
       "\n",
       "    .dataframe tbody tr th {\n",
       "        vertical-align: top;\n",
       "    }\n",
       "\n",
       "    .dataframe thead th {\n",
       "        text-align: right;\n",
       "    }\n",
       "</style>\n",
       "<table border=\"1\" class=\"dataframe\">\n",
       "  <thead>\n",
       "    <tr style=\"text-align: right;\">\n",
       "      <th></th>\n",
       "      <th>index</th>\n",
       "      <th>MonthlyTotalLiquidPrecipitation_Clean</th>\n",
       "      <th>TempCounts</th>\n",
       "      <th>Frequency</th>\n",
       "      <th>CUM_Frequency</th>\n",
       "    </tr>\n",
       "  </thead>\n",
       "  <tbody>\n",
       "    <tr>\n",
       "      <th>0</th>\n",
       "      <td>0</td>\n",
       "      <td>0.00</td>\n",
       "      <td>2</td>\n",
       "      <td>0.022222</td>\n",
       "      <td>0.022222</td>\n",
       "    </tr>\n",
       "    <tr>\n",
       "      <th>1</th>\n",
       "      <td>54</td>\n",
       "      <td>0.02</td>\n",
       "      <td>1</td>\n",
       "      <td>0.011111</td>\n",
       "      <td>0.033333</td>\n",
       "    </tr>\n",
       "    <tr>\n",
       "      <th>2</th>\n",
       "      <td>61</td>\n",
       "      <td>0.19</td>\n",
       "      <td>1</td>\n",
       "      <td>0.011111</td>\n",
       "      <td>0.044444</td>\n",
       "    </tr>\n",
       "    <tr>\n",
       "      <th>3</th>\n",
       "      <td>60</td>\n",
       "      <td>0.20</td>\n",
       "      <td>1</td>\n",
       "      <td>0.011111</td>\n",
       "      <td>0.055556</td>\n",
       "    </tr>\n",
       "    <tr>\n",
       "      <th>4</th>\n",
       "      <td>59</td>\n",
       "      <td>0.26</td>\n",
       "      <td>1</td>\n",
       "      <td>0.011111</td>\n",
       "      <td>0.066667</td>\n",
       "    </tr>\n",
       "  </tbody>\n",
       "</table>\n",
       "</div>"
      ],
      "text/plain": [
       "   index  MonthlyTotalLiquidPrecipitation_Clean  TempCounts  Frequency  \\\n",
       "0      0                                   0.00           2   0.022222   \n",
       "1     54                                   0.02           1   0.011111   \n",
       "2     61                                   0.19           1   0.011111   \n",
       "3     60                                   0.20           1   0.011111   \n",
       "4     59                                   0.26           1   0.011111   \n",
       "\n",
       "   CUM_Frequency  \n",
       "0       0.022222  \n",
       "1       0.033333  \n",
       "2       0.044444  \n",
       "3       0.055556  \n",
       "4       0.066667  "
      ]
     },
     "execution_count": 119,
     "metadata": {},
     "output_type": "execute_result"
    }
   ],
   "source": [
    "# Group data by month of year so we can understand temperature ranges by month.\n",
    "\n",
    "temp_precip = model_df[['MonthlyTotalLiquidPrecipitation_Clean']]\\\n",
    "                             .value_counts()\\\n",
    "                             .reset_index()\\\n",
    "                             .sort_values('MonthlyTotalLiquidPrecipitation_Clean',ascending=True)\\\n",
    "                             .rename(columns={0: 'TempCounts'})\n",
    "\n",
    "temp_precip = temp_precip.reset_index()\n",
    "\n",
    "# Add frequency for the temperatures by month\n",
    "temp_precip['Frequency'] = temp_precip['TempCounts'].transform(lambda x: (x / x.sum()))\n",
    "\n",
    "# Add cumulative sum of temperatures by month\n",
    "temp_precip['CUM_Frequency'] = np.cumsum(temp_precip['Frequency'])\n",
    "\n",
    "temp_precip.head()"
   ]
  },
  {
   "cell_type": "code",
   "execution_count": 120,
   "id": "b1499675",
   "metadata": {},
   "outputs": [
    {
     "data": {
      "image/png": "[encoded data removed]",
      "text/plain": [
       "<Figure size 720x288 with 1 Axes>"
      ]
     },
     "metadata": {
      "needs_background": "light"
     },
     "output_type": "display_data"
    }
   ],
   "source": [
    "# Probability Mass Function (PMF): Calculation for Variable where Count of Freezing Days / Month\n",
    "\n",
    "fig=plt.figure(figsize=(10,4))\n",
    "\n",
    "sns.lineplot(x='MonthlyTotalLiquidPrecipitation_Clean', y='Frequency', data=temp_precip);\n",
    "plt.title('PMF: Precipitation Amount (inches) per Month\\n');\n",
    "plt.xlabel('Inches of Precipitation per Month');"
   ]
  },
  {
   "cell_type": "code",
   "execution_count": 121,
   "id": "a093d007",
   "metadata": {},
   "outputs": [
    {
     "data": {
      "image/png": "[encoded data removed]",
      "text/plain": [
       "<Figure size 720x288 with 1 Axes>"
      ]
     },
     "metadata": {
      "needs_background": "light"
     },
     "output_type": "display_data"
    }
   ],
   "source": [
    "# CDF: Calculation for Variable where Count of Freezing Days / Month\n",
    "\n",
    "fig=plt.figure(figsize=(10,4))\n",
    "\n",
    "sns.lineplot(x='MonthlyTotalLiquidPrecipitation_Clean', y='CUM_Frequency', data=temp_precip);\n",
    "plt.title('CDF: Precipitation Amount (inches) per Month\\n');\n",
    "plt.xlabel('Inches of Precipitation per Month');\n",
    "plt.ylabel('Cumulative Frequency');"
   ]
  },
  {
   "cell_type": "markdown",
   "id": "2e839f34",
   "metadata": {},
   "source": [
    "### EDA: Create an Estimated Model for Precipitation Amount"
   ]
  },
  {
   "cell_type": "code",
   "execution_count": 122,
   "id": "5def73c0",
   "metadata": {},
   "outputs": [
    {
     "data": {
      "text/plain": [
       "count    90.000000\n",
       "mean      2.876222\n",
       "std       2.195644\n",
       "min       0.000000\n",
       "25%       1.240000\n",
       "50%       2.395000\n",
       "75%       4.022500\n",
       "max       9.750000\n",
       "Name: MonthlyTotalLiquidPrecipitation_Clean, dtype: float64"
      ]
     },
     "execution_count": 122,
     "metadata": {},
     "output_type": "execute_result"
    }
   ],
   "source": [
    "# Statistical variables for Precipitation\n",
    "\n",
    "model_df['MonthlyTotalLiquidPrecipitation_Clean'].describe()"
   ]
  },
  {
   "cell_type": "code",
   "execution_count": 123,
   "id": "5890f6c4",
   "metadata": {},
   "outputs": [
    {
     "data": {
      "image/png": "[encoded data removed]",
      "text/plain": [
       "<Figure size 432x288 with 1 Axes>"
      ]
     },
     "metadata": {
      "needs_background": "light"
     },
     "output_type": "display_data"
    }
   ],
   "source": [
    "# Build an Exponential Model using Statistics of Total Precipitation per Month\n",
    "\n",
    "mu = model_df['MonthlyTotalLiquidPrecipitation_Clean'].mean()\n",
    "sigma = model_df['MonthlyTotalLiquidPrecipitation_Clean'].std()\n",
    "\n",
    "mn = model_df['MonthlyTotalLiquidPrecipitation_Clean'].min()\n",
    "mx = model_df['MonthlyTotalLiquidPrecipitation_Clean'].max()\n",
    "\n",
    "mu, sigma, mn, mx\n",
    "\n",
    "x = np.linspace(mn, mx, num=100)\n",
    "sns.lineplot(x=x, y=expon.pdf(x, 0, mu));"
   ]
  },
  {
   "cell_type": "code",
   "execution_count": 124,
   "id": "7d213d75",
   "metadata": {},
   "outputs": [
    {
     "data": {
      "image/png": "[encoded data removed]",
      "text/plain": [
       "<Figure size 576x288 with 1 Axes>"
      ]
     },
     "metadata": {
      "needs_background": "light"
     },
     "output_type": "display_data"
    }
   ],
   "source": [
    "# Compare an Exponential Distribution to the Precipitation Amount\n",
    "\n",
    "g = sns.FacetGrid(temp_precip, height=4, aspect=2);\n",
    "g.map(sns.lineplot, x=x, y=expon.cdf(x, 0, mu), color='g');\n",
    "g.map(sns.lineplot, x='MonthlyTotalLiquidPrecipitation_Clean', y='CUM_Frequency', data=temp_precip, color=\"b\");\n",
    "plt.title('Precipitation Amounts: Actual vs. Modeled\\n');\n",
    "plt.xlabel('Precipitation Amount (inches)');\n",
    "plt.ylabel('Cumulative Frequency');"
   ]
  },
  {
   "cell_type": "markdown",
   "id": "05757763",
   "metadata": {},
   "source": [
    "### EDA: Scatterplot Construction"
   ]
  },
  {
   "cell_type": "code",
   "execution_count": 125,
   "id": "c21d2850",
   "metadata": {},
   "outputs": [],
   "source": [
    "# Function used to create scatterplots and correlation\n",
    "\n",
    "def Scatter_Target(df, x_var, y_var):\n",
    "    sns.scatterplot(data=df, x=x_var, y=y_var);\n",
    "    \n",
    "    pears = pearsonr(df[x_var], df[y_var])[0]\n",
    "    sp_rank = spearmanr(df[x_var], df[y_var])[0]\n",
    "    print(f'Pearsons R:',pears,'\\nSpearman\\'s Rank Corr:',sp_rank)\n",
    "    "
   ]
  },
  {
   "cell_type": "code",
   "execution_count": 126,
   "id": "6d819189",
   "metadata": {},
   "outputs": [
    {
     "name": "stdout",
     "output_type": "stream",
     "text": [
      "Pearsons R: 0.1754075686588556 \n",
      "Spearman's Rank Corr: 0.22354936174975182\n"
     ]
    },
    {
     "data": {
      "image/png": "[encoded data removed]",
      "text/plain": [
       "<Figure size 432x288 with 1 Axes>"
      ]
     },
     "metadata": {
      "needs_background": "light"
     },
     "output_type": "display_data"
    }
   ],
   "source": [
    "# Amount of Precipitation not likely useful in projecting the number of flights.\n",
    "\n",
    "Scatter_Target(df=model_df, x_var='MonthlyTotalLiquidPrecipitation_Clean', y_var='Local')\n",
    "plt.title('Monthly Precipitation vs. Flights');\n",
    "plt.ylabel('No. Local Flights per Month');\n",
    "plt.xlabel('Precipitation (inches)');"
   ]
  },
  {
   "cell_type": "code",
   "execution_count": 127,
   "id": "3d566520",
   "metadata": {},
   "outputs": [
    {
     "name": "stdout",
     "output_type": "stream",
     "text": [
      "Pearsons R: -0.20428707108218086 \n",
      "Spearman's Rank Corr: -0.2083003358340539\n"
     ]
    },
    {
     "data": {
      "image/png": "[encoded data removed]",
      "text/plain": [
       "<Figure size 432x288 with 1 Axes>"
      ]
     },
     "metadata": {
      "needs_background": "light"
     },
     "output_type": "display_data"
    }
   ],
   "source": [
    "# Wind Gust Counts not likely useful in projecting the number of flights.\n",
    "\n",
    "Scatter_Target(df=model_df, x_var='Wind_Gust_Count', y_var='Local')\n",
    "plt.title('Days with Strong Wind vs. Flights');\n",
    "plt.ylabel('No. Local Flights per Month');\n",
    "plt.xlabel('Wind Gusts > 35mph');"
   ]
  },
  {
   "cell_type": "code",
   "execution_count": 128,
   "id": "35295d0b",
   "metadata": {},
   "outputs": [
    {
     "name": "stdout",
     "output_type": "stream",
     "text": [
      "Pearsons R: -0.38702461162100077 \n",
      "Spearman's Rank Corr: -0.36359467239308957\n"
     ]
    },
    {
     "data": {
      "image/png": "[encoded data removed]",
      "text/plain": [
       "<Figure size 432x288 with 1 Axes>"
      ]
     },
     "metadata": {
      "needs_background": "light"
     },
     "output_type": "display_data"
    }
   ],
   "source": [
    "# Air pressure not likely useful in projecting the number of flights.\n",
    "\n",
    "Scatter_Target(df=model_df, x_var='MonthlySeaLevelPressure', y_var='Local');\n",
    "plt.title('Sea Level Pressure vs. Flights');\n",
    "plt.ylabel('No. Local Flights per Month');\n",
    "plt.xlabel('Sea Level Pressure (inches of mercury)');"
   ]
  },
  {
   "cell_type": "code",
   "execution_count": 129,
   "id": "2baf4603",
   "metadata": {},
   "outputs": [
    {
     "name": "stdout",
     "output_type": "stream",
     "text": [
      "Pearsons R: -0.547113276659184 \n",
      "Spearman's Rank Corr: -0.5729936557073562\n"
     ]
    },
    {
     "data": {
      "image/png": "[encoded data removed]",
      "text/plain": [
       "<Figure size 432x288 with 1 Axes>"
      ]
     },
     "metadata": {
      "needs_background": "light"
     },
     "output_type": "display_data"
    }
   ],
   "source": [
    "# Days below freezing seems to be moderately useful variable for projecting flights.\n",
    "\n",
    "Scatter_Target(df=model_df, x_var='MonthlyDaysWithLT32Temp_Clean', y_var='Local');\n",
    "plt.title('No. Freezing Days vs. Flights');\n",
    "plt.ylabel('No. Local Flights per Month');\n",
    "plt.xlabel('No. Freezing Days per Month');"
   ]
  },
  {
   "cell_type": "code",
   "execution_count": 130,
   "id": "42bf1c8a",
   "metadata": {},
   "outputs": [
    {
     "name": "stdout",
     "output_type": "stream",
     "text": [
      "Pearsons R: 0.6823059764240034 \n",
      "Spearman's Rank Corr: 0.7005186044787757\n"
     ]
    },
    {
     "data": {
      "image/png": "[encoded data removed]",
      "text/plain": [
       "<Figure size 432x288 with 1 Axes>"
      ]
     },
     "metadata": {
      "needs_background": "light"
     },
     "output_type": "display_data"
    }
   ],
   "source": [
    "# Average Monthly Temperature seems to be the most useful variable for projecting flight conditions.\n",
    "\n",
    "Scatter_Target(df=model_df, x_var='MonthlyMeanTemperature', y_var='Local');\n",
    "plt.title('Average Monthly Temperature vs. Flights');\n",
    "plt.ylabel('No. Local Flights per Month');\n",
    "plt.xlabel('AVG Monthly Temperature (F)');"
   ]
  },
  {
   "cell_type": "code",
   "execution_count": 131,
   "id": "3a48b779",
   "metadata": {},
   "outputs": [
    {
     "name": "stdout",
     "output_type": "stream",
     "text": [
      "Pearsons R: -0.7765520906220109 \n",
      "Spearman's Rank Corr: -0.8421254020573953\n"
     ]
    },
    {
     "data": {
      "image/png": "[encoded data removed]",
      "text/plain": [
       "<Figure size 432x288 with 1 Axes>"
      ]
     },
     "metadata": {
      "needs_background": "light"
     },
     "output_type": "display_data"
    }
   ],
   "source": [
    "# Correlation Among 2 Temperature Variables Probably Too High to include Both in Model\n",
    "\n",
    "Scatter_Target(df=model_df, x_var='MonthlyMeanTemperature', y_var='MonthlyDaysWithLT32Temp_Clean');\n",
    "plt.title('Average Monthly Temperature vs. No. Freezing Days');\n",
    "plt.ylabel('Number of Freezing Days');\n",
    "plt.xlabel('AVG Monthly Temperature (F)');"
   ]
  },
  {
   "cell_type": "code",
   "execution_count": 132,
   "id": "8b3914fd",
   "metadata": {},
   "outputs": [
    {
     "name": "stdout",
     "output_type": "stream",
     "text": [
      "Pearsons R: -0.7765520906220109 \n",
      "Pearson p-value: 2.400817639134111e-19 \n",
      "Spearman R: -0.8421254020573953 \n",
      "Spearman p-value: 2.5171816646761668e-25\n"
     ]
    }
   ],
   "source": [
    "# Monthly Mean Temperature is inversely correlated with Number of Days Below Freezing. \n",
    "# Higher Spearman value suggests trend is non-linear. P-values are not significant at even 10% level, so this relationship\n",
    "# is questionable or perhaps more complex.\n",
    "\n",
    "pears = pearsonr(model_df['MonthlyMeanTemperature'], model_df['MonthlyDaysWithLT32Temp_Clean'])[0]\n",
    "pears_pval = pearsonr(model_df['MonthlyMeanTemperature'], model_df['MonthlyDaysWithLT32Temp_Clean'])[1]\n",
    "sprank = spearmanr(model_df['MonthlyMeanTemperature'], model_df['MonthlyDaysWithLT32Temp_Clean'])[0]\n",
    "sp_pval = spearmanr(model_df['MonthlyMeanTemperature'], model_df['MonthlyDaysWithLT32Temp_Clean'])[1]\n",
    "\n",
    "print(f'Pearsons R:',pears,'\\nPearson p-value:',pears_pval,'\\nSpearman R:',sprank,'\\nSpearman p-value:',sp_pval)"
   ]
  },
  {
   "cell_type": "markdown",
   "id": "845106b1",
   "metadata": {},
   "source": [
    "### EDA: Hypothesis Testing"
   ]
  },
  {
   "cell_type": "code",
   "execution_count": 133,
   "id": "386be578",
   "metadata": {},
   "outputs": [
    {
     "data": {
      "image/png": "[encoded data removed]",
      "text/plain": [
       "<Figure size 432x288 with 1 Axes>"
      ]
     },
     "metadata": {
      "needs_background": "light"
     },
     "output_type": "display_data"
    }
   ],
   "source": [
    "# Review the Trend in Local Data\n",
    "\n",
    "time_months = model_df.index\n",
    "\n",
    "sns.lineplot(x=model_df.index, y='Local', data=model_df);\n",
    "plt.title('Number of Flights over Time\\n');"
   ]
  },
  {
   "cell_type": "code",
   "execution_count": 134,
   "id": "810fbfa7",
   "metadata": {},
   "outputs": [],
   "source": [
    "class HypothesisTest(object):\n",
    "\n",
    "    def __init__(self, data):\n",
    "        self.data = data\n",
    "        self.MakeModel()\n",
    "        self.actual = self.TestStatistic(data)\n",
    "\n",
    "    def PValue(self, iters=1000):\n",
    "        self.test_stats = [self.TestStatistic(self.RunModel()) \n",
    "                           for _ in range(iters)]\n",
    "\n",
    "        count = sum(1 for x in self.test_stats if x >= self.actual)\n",
    "        return count / iters\n",
    "\n",
    "    def TestStatistic(self, data):\n",
    "        raise UnimplementedMethodException()\n",
    "\n",
    "    def MakeModel(self):\n",
    "        pass\n",
    "\n",
    "    def RunModel(self):\n",
    "        raise UnimplementedMethodException()"
   ]
  },
  {
   "cell_type": "code",
   "execution_count": 135,
   "id": "717fad60",
   "metadata": {},
   "outputs": [],
   "source": [
    "# Difference of means function.\n",
    "\n",
    "class DiffMeansPermute(thinkstats2.HypothesisTest):\n",
    "\n",
    "    def TestStatistic(self, data):\n",
    "        group1, group2 = data\n",
    "        test_stat = abs(group1.mean() - group2.mean())\n",
    "        return test_stat\n",
    "\n",
    "    def MakeModel(self):\n",
    "        group1, group2 = self.data\n",
    "        self.n, self.m = len(group1), len(group2)\n",
    "        self.pool = np.hstack((group1, group2))\n",
    "\n",
    "    def RunModel(self):\n",
    "        np.random.shuffle(self.pool)\n",
    "        data = self.pool[:self.n], self.pool[self.n:]\n",
    "        return data"
   ]
  },
  {
   "cell_type": "code",
   "execution_count": 136,
   "id": "98dfb7b4",
   "metadata": {},
   "outputs": [
    {
     "name": "stdout",
     "output_type": "stream",
     "text": [
      "Comparing the mean number of flights between 2014-2018 vs. 2019-2021 demonstrates means are similar\n",
      "less than 1% of the time. This is significant.\n",
      "pvalue from difference in means test= 0.0\n"
     ]
    }
   ],
   "source": [
    "# Run a difference of means test to see if the number of flights in more recent years differs from history.\n",
    "# Testing whether first five years (60 months) differ from later years.\n",
    "\n",
    "early_years = model_df.loc[model_df.index<60]\n",
    "later_years = model_df.loc[model_df.index>=60]\n",
    "data = early_years['Local'], later_years['Local']\n",
    "\n",
    "ht = DiffMeansPermute(data)\n",
    "pvalue = ht.PValue()\n",
    "\n",
    "print('Comparing the mean number of flights between 2014-2018 vs. 2019-2021 demonstrates means are similar')\n",
    "print('less than 1% of the time. This is significant.')\n",
    "print(f'pvalue from difference in means test=', pvalue)"
   ]
  },
  {
   "cell_type": "code",
   "execution_count": 137,
   "id": "9f471e6a",
   "metadata": {},
   "outputs": [
    {
     "data": {
      "image/png": "[encoded data removed]",
      "text/plain": [
       "<Figure size 432x288 with 1 Axes>"
      ]
     },
     "metadata": {
      "needs_background": "light"
     },
     "output_type": "display_data"
    },
    {
     "data": {
      "text/plain": [
       "<Figure size 576x432 with 0 Axes>"
      ]
     },
     "metadata": {},
     "output_type": "display_data"
    }
   ],
   "source": [
    "ht.PlotCdf();\n",
    "thinkplot.Show(xlabel='difference in means test statistic', ylabel='CDF');"
   ]
  },
  {
   "cell_type": "markdown",
   "id": "b9659cd5",
   "metadata": {},
   "source": [
    "### REGRESSION: Build Linear Model with Temperature as only Variable"
   ]
  },
  {
   "cell_type": "code",
   "execution_count": 138,
   "id": "4cb34246",
   "metadata": {},
   "outputs": [],
   "source": [
    "# Build Model with Temperature as only Independent Variable. Predict Local Flights\n",
    "\n",
    "x_val = np.array(model_df['MonthlyMeanTemperature']).reshape(-1,1)\n",
    "y_actual = np.array(model_df['Local'])\n",
    "\n",
    "lm = linear_model.LinearRegression()\n",
    "lm.fit(X=x_val, y=y_actual)\n",
    "y_pred = lm.predict(x_val)"
   ]
  },
  {
   "cell_type": "code",
   "execution_count": 139,
   "id": "2f4543ee",
   "metadata": {},
   "outputs": [
    {
     "name": "stdout",
     "output_type": "stream",
     "text": [
      "Coefficients:  [23.45590086]\n",
      "Intercept:  588.1713612573142\n",
      "Mean squared error: 200167.95\n",
      "Coefficient of determination: 0.47\n"
     ]
    }
   ],
   "source": [
    "# The coefficients and intercept\n",
    "print(\"Coefficients: \", lm.coef_)\n",
    "print(\"Intercept: \", lm.intercept_)\n",
    "# The mean squared error\n",
    "print(\"Mean squared error: %.2f\" % mean_squared_error(y_actual, y_pred))\n",
    "# The coefficient of determination: 1 is perfect prediction\n",
    "print(\"Coefficient of determination: %.2f\" % r2_score(y_actual, y_pred))"
   ]
  },
  {
   "cell_type": "code",
   "execution_count": 140,
   "id": "3c2037f9",
   "metadata": {},
   "outputs": [
    {
     "data": {
      "image/png": "[encoded data removed]",
      "text/plain": [
       "<Figure size 432x288 with 1 Axes>"
      ]
     },
     "metadata": {
      "needs_background": "light"
     },
     "output_type": "display_data"
    }
   ],
   "source": [
    "# Plot outputs\n",
    "plt.scatter(x_val, y_actual, color=\"black\");\n",
    "plt.plot(x_val, y_pred, color=\"blue\", linewidth=3);\n",
    "plt.title('Regression: Temperature\\'s Influence on No. Flights\\n');\n",
    "plt.ylabel('No. Local Flights per Month');\n",
    "plt.xlabel('AVG Monthly Temperature (F)');"
   ]
  }
 ],
 "metadata": {
  "kernelspec": {
   "display_name": "Python 3 (ipykernel)",
   "language": "python",
   "name": "python3"
  },
  "language_info": {
   "codemirror_mode": {
    "name": "ipython",
    "version": 3
   },
   "file_extension": ".py",
   "mimetype": "text/x-python",
   "name": "python",
   "nbconvert_exporter": "python",
   "pygments_lexer": "ipython3",
   "version": "3.9.7"
  }
 },
 "nbformat": 4,
 "nbformat_minor": 5
}
